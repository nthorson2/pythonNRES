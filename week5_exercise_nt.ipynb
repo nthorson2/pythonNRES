{
 "cells": [
  {
   "cell_type": "code",
   "execution_count": null,
   "metadata": {},
   "outputs": [],
   "source": [
    "#exercise 5.1\n",
    "\n",
    "#str.format\n",
    "print('file_{:>03} : {:0.2f}, {:0.2e}, {:0.2e}'.format(2,123.4567,10000,12345.67))\n",
    "#f-string\n",
    "vals = [2,123.4567,10000,12345.67]\n",
    "print(f'file_%03i : %0.2f, %0.2e, %0.2e'%(2,123.4567,10000,12345.67))\n"
   ]
  },
  {
   "cell_type": "code",
   "execution_count": null,
   "metadata": {},
   "outputs": [],
   "source": [
    "#exercise 5.2\n",
    "def iterableFunct(valList):\n",
    "    length = len(valList)\n",
    "    val=\"\"\n",
    "    cnt=0\n",
    "    for x in valList:\n",
    "        cnt += 1\n",
    "        if cnt < len(valList):\n",
    "            val += str(x)\n",
    "            val += \",\"\n",
    "        else:\n",
    "            val += str(x)\n",
    "    print(f'The {len(valList)} numbers are: {val}' ) \n",
    "iterableFunct([6,7,8,9])"
   ]
  },
  {
   "cell_type": "code",
   "execution_count": null,
   "metadata": {},
   "outputs": [],
   "source": [
    "#exercise 5.3\n",
    "def iterableFunct(valList):\n",
    "    length = len(valList)\n",
    "    val=\"\"\n",
    "    cnt=0\n",
    "    for x in range(len(valList)):\n",
    "        if x < len(valList)-1:\n",
    "            val += str(valList[x])\n",
    "            val += \",\"\n",
    "        else:\n",
    "            val += str(valList[x])\n",
    "    print(f'The {len(valList)} numbers are: {val}' ) \n",
    "iterableFunct([6,7,8,9])\n"
   ]
  },
  {
   "cell_type": "code",
   "execution_count": null,
   "metadata": {},
   "outputs": [],
   "source": [
    "#%%\n",
    "#exercise 5.4\n",
    "def fString(ListA):\n",
    "    print(f''.join(f'{x} ' for x in ListA))\n",
    "fString((4,30,2017,2,27))\n"
   ]
  },
  {
   "cell_type": "code",
   "execution_count": null,
   "metadata": {},
   "outputs": [],
   "source": [
    "#exercise 5.5\n",
    "def fStringFormat(fruit1,weight1,fruit2,weight2):\n",
    "    print(f'The weight of an {fruit1} is {weight1} and the weight of a {fruit2} is {weight2} and the total weight is {weight1 + weight2:0.1f}')\n",
    "\n",
    "fStringFormat('orange',1.3,'lemon',1.1)\n"
   ]
  },
  {
   "cell_type": "code",
   "execution_count": 1,
   "metadata": {},
   "outputs": [
    {
     "name": "stdout",
     "output_type": "stream",
     "text": [
      "  1  2  3  4  5\n"
     ]
    }
   ],
   "source": [
    "#exercise 5.6\n",
    "def fStringWeightChange(listA, width):\n",
    "    print(f''.join(f'{x:>{width}}' for x in listA))\n",
    "\n",
    "fStringWeightChange([1,2,3,4,5], 3)\n"
   ]
  },
  {
   "cell_type": "code",
   "execution_count": null,
   "metadata": {},
   "outputs": [
    {
     "name": "stdout",
     "output_type": "stream",
     "text": [
      "https://waterdata.usgs.gov/nwis/dv?&cb_00060=on&format=rdb&site_no06803495&referred_module=sw&period=&begin_date=2019-02-11&end_date=2020-02-11\n"
     ]
    }
   ],
   "source": [
    "#exercise 5.7\n",
    "\n",
    "def getURLInfo(stationList, startDate, endDate):\n",
    "    \n",
    "    sDate = startDate\n",
    "    eDate = endDate\n",
    "    \n",
    "    station = ('&site_no{}' * len(stationList)).format(*stationList)\n",
    "    \n",
    "    url = \"https://waterdata.usgs.gov/nwis/dv?&cb_00060=on&format=rdb\" + station + \"&referred_module=sw&period=&begin_date=\" + sDate + \"&end_date=\" + eDate\n",
    "    \n",
    "    print(url)\n",
    "    \n",
    "    from urllib.request import urlopen    \n",
    "    import json\n",
    "    \n",
    "    with urlopen(url) as f:\n",
    "        data = f.readlines()\n",
    "        print(data)\n",
    "        \n",
    "    for d in data[:40]:\n",
    "        print(d)\n",
    "    \n",
    "getURLInfo(['06803495'], '2019-02-11', '2020-02-11')"
   ]
  }
 ],
 "metadata": {
  "kernelspec": {
   "display_name": "Python 3",
   "language": "python",
   "name": "python3"
  },
  "language_info": {
   "codemirror_mode": {
    "name": "ipython",
    "version": 3
   },
   "file_extension": ".py",
   "mimetype": "text/x-python",
   "name": "python",
   "nbconvert_exporter": "python",
   "pygments_lexer": "ipython3",
   "version": "3.7.4"
  }
 },
 "nbformat": 4,
 "nbformat_minor": 4
}
