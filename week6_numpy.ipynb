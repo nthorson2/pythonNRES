{
 "cells": [
  {
   "cell_type": "markdown",
   "metadata": {},
   "source": [
    "# Creating array"
   ]
  },
  {
   "cell_type": "code",
   "execution_count": null,
   "metadata": {},
   "outputs": [],
   "source": [
    "from sys import getsizeof\n",
    "import numpy as np\n",
    "import matplotlib.pyplot as plt\n",
    "\n",
    "# using list or tuple\n",
    "print([1, 2, 3], np.array([1, 2, 3]))\n",
    "print((1, 2, 3), np.array((1, 2, 3)))"
   ]
  },
  {
   "cell_type": "code",
   "execution_count": null,
   "metadata": {},
   "outputs": [],
   "source": [
    "# does not work with multiple numeric arguments\n",
    "a = np.array(1,2,3,4)    # WRONG"
   ]
  },
  {
   "cell_type": "code",
   "execution_count": null,
   "metadata": {},
   "outputs": [],
   "source": [
    "# milti-level list -> multi-dimensional array\n",
    "print([[1, 2, 3], [4, 5, 6]])\n",
    "print(np.array([[1, 2, 3], [4, 5, 6]]))"
   ]
  },
  {
   "cell_type": "code",
   "execution_count": null,
   "metadata": {},
   "outputs": [],
   "source": [
    "# convert back to list\n",
    "a = np.array([[1, 2, 3], [4, 5, 6]])\n",
    "print(a.tolist())\n",
    "print(list(a))"
   ]
  },
  {
   "cell_type": "code",
   "execution_count": null,
   "metadata": {},
   "outputs": [],
   "source": [
    "# using arange\n",
    "print(np.arange(10))\n",
    "print(np.arange(2, 10))\n",
    "print(np.arange(2, 10, 2))"
   ]
  },
  {
   "cell_type": "code",
   "execution_count": null,
   "metadata": {},
   "outputs": [],
   "source": [
    "# using linspace() to generate evenly spaced numbers\n",
    "print(np.linspace(0, 10, 6))\n",
    "print(np.linspace(0, 100, 11))"
   ]
  },
  {
   "cell_type": "code",
   "execution_count": null,
   "metadata": {},
   "outputs": [],
   "source": [
    "np.sin(np.linspace( 0, 2*np.pi, 51 ) )"
   ]
  },
  {
   "cell_type": "code",
   "execution_count": null,
   "metadata": {},
   "outputs": [],
   "source": [
    "# create uniform array\n",
    "print(np.ones([3, 4]), '\\n')\n",
    "print(np.zeros([3, 4]), '\\n')\n",
    "print(np.empty([3, 4]), '\\n')\n",
    "print(np.full([3, 4], 'hello'), '\\n')"
   ]
  },
  {
   "cell_type": "code",
   "execution_count": null,
   "metadata": {},
   "outputs": [],
   "source": [
    "# create uniform array based on the shape of another array\n",
    "print(np.ones_like(np.zeros([3, 4])))"
   ]
  },
  {
   "cell_type": "markdown",
   "metadata": {},
   "source": [
    "# Data types"
   ]
  },
  {
   "cell_type": "code",
   "execution_count": null,
   "metadata": {},
   "outputs": [],
   "source": [
    "print(np.dtype(int))\n",
    "print(np.dtype(float)) # takes up large storage when saving data in default types"
   ]
  },
  {
   "cell_type": "code",
   "execution_count": null,
   "metadata": {},
   "outputs": [],
   "source": [
    "# you can specify the date you want when creating a new array\n",
    "print(np.ones([3, 4], dtype=int), '\\n')\n",
    "print(np.ones([3, 4], dtype=str), '\\n')\n",
    "print(np.zeros([3, 4], dtype=int), '\\n')\n",
    "print(np.zeros([3, 4], dtype=str), '\\n')\n",
    "print(np.empty([3, 4], dtype=int), '\\n')\n",
    "print(np.empty([3, 4], dtype=str), '\\n')"
   ]
  },
  {
   "cell_type": "code",
   "execution_count": null,
   "metadata": {},
   "outputs": [],
   "source": [
    "# be careful about the range of a data type\n",
    "print(np.power(100, 8, dtype=np.int64))\n",
    "print(np.power(100, 8, dtype=np.int32))\n",
    "print(np.power(100, 8, dtype=np.int16))"
   ]
  },
  {
   "cell_type": "code",
   "execution_count": null,
   "metadata": {},
   "outputs": [],
   "source": [
    "# check the range\n",
    "print(np.iinfo(np.int64))\n",
    "print(np.iinfo(np.int32))\n",
    "print(np.iinfo(np.int16))"
   ]
  },
  {
   "cell_type": "code",
   "execution_count": null,
   "metadata": {},
   "outputs": [],
   "source": [
    "# structured array is very powerful to deal with table-like data (but we will learn about a more powerful tool very soon)\n",
    "dtype = np.dtype([('siteno', 'U10'), ('datetime', 'M'), ('streamflow', 'f2')])\n",
    "print(dtype)"
   ]
  },
  {
   "cell_type": "markdown",
   "metadata": {},
   "source": [
    "# Indexing"
   ]
  },
  {
   "cell_type": "code",
   "execution_count": null,
   "metadata": {},
   "outputs": [],
   "source": [
    "# first of all array is mutable; the index is referencing to the location of the data (referencing)\n",
    "a = np.ones_like(np.zeros([3, 4]))\n",
    "print('before', a[1, 1])\n",
    "a[1, 1] = 2\n",
    "print('after', a[1, 1])"
   ]
  },
  {
   "cell_type": "code",
   "execution_count": null,
   "metadata": {},
   "outputs": [],
   "source": [
    "# 1. indexing like lists\n",
    "#a1 = np.random.randint(1, 100, 10)\n",
    "a1 = np.arange(10)\n",
    "print(a1)\n",
    "print(a1[:5])\n",
    "print(a1[7:])\n",
    "print(a1[-5:])"
   ]
  },
  {
   "cell_type": "code",
   "execution_count": null,
   "metadata": {},
   "outputs": [],
   "source": [
    "# specify the step\n",
    "print(a1[:8:2])"
   ]
  },
  {
   "cell_type": "code",
   "execution_count": null,
   "metadata": {},
   "outputs": [],
   "source": [
    "# 2. numpy feature indexing by list/array of specific indices\n",
    "print(a1[[2, 3, 6, 9]])"
   ]
  },
  {
   "cell_type": "code",
   "execution_count": null,
   "metadata": {},
   "outputs": [],
   "source": [
    "# 2.2 what is returned when index arrays are used is an array with the same shape as the index array\n",
    "print(a1)\n",
    "print(a1[np.array([[2, 3], [-2, -1]])])"
   ]
  },
  {
   "cell_type": "code",
   "execution_count": null,
   "metadata": {},
   "outputs": [],
   "source": [
    "# numpy feature indexing by boolean\n",
    "temperatures = [-5.4, 1.0, -1.3, -4.8, 3.9, 0.1, -4.4, 4.0, -2.2, -3.9, 4.4,\n",
    "                -2.5, -4.6, 5.1, 2.1, -2.4, 1.9, -3.3, -4.8, 1.0, -0.8, -2.8,\n",
    "                -0.1, -4.7, -5.6, 2.6, -2.7, -4.6, 3.4, -0.4, -0.9, 3.1, 2.4,\n",
    "                1.6, 4.2, 3.5, 2.6, 3.1, 2.2, 1.8, 3.3, 1.6, 1.5, 4.7, 4.0,\n",
    "                3.6, 4.9, 4.8, 5.3, 5.6, 4.1, 3.7, 7.6, 6.9, 5.1, 6.4, 3.8,\n",
    "                4.0, 8.6, 4.1, 1.4, 8.9, 3.0, 1.6, 8.5, 4.7, 6.6, 8.1, 4.5,\n",
    "                4.8, 11.3, 4.7, 5.2, 11.5, 6.2, 2.9, 4.3, 2.8, 2.8, 6.3, 2.6,\n",
    "                -0.0, 7.3, 3.4, 4.7, 9.3, 6.4, 5.4, 7.6, 5.2]\n",
    "temp = np.array(temperatures)\n",
    "\n",
    "temp1 = temp[temp < -2]\n",
    "temp2 = temp[(temp >= -2) & (temp < 2)]\n",
    "temp3 = temp[(temp >= 2)  & (temp < 15)]\n",
    "\n",
    "print(temp1.mean())\n",
    "print(temp2.mean())\n",
    "print(temp3.mean())"
   ]
  },
  {
   "cell_type": "code",
   "execution_count": null,
   "metadata": {},
   "outputs": [],
   "source": [
    "# Numpy broadcasting\n",
    "temp = np.tile(temperatures, 3).reshape([3, -1])\n",
    "lower = np.array([-np.inf, -2, 2]).reshape([3, 1])\n",
    "upper = np.array([-2, 2, 15]).reshape([3, 1])\n",
    " \n",
    "temp = np.where((temp > lower) & (temp <= upper), temp, np.nan )\n",
    "temp"
   ]
  },
  {
   "cell_type": "code",
   "execution_count": null,
   "metadata": {},
   "outputs": [],
   "source": [
    "np.nanmean(temp, axis=1)"
   ]
  },
  {
   "cell_type": "code",
   "execution_count": null,
   "metadata": {},
   "outputs": [],
   "source": [
    "def method1(temperatures):\n",
    "    temp = np.array(temperatures)\n",
    "    temp1 = temp[temp < -2]\n",
    "    temp2 = temp[(temp >= -2) & (temp < 2)]\n",
    "    temp3 = temp[(temp >= 2)  & (temp < 15)]\n",
    "\n",
    "    return temp1.mean(), temp2.mean(), temp3.mean()\n",
    "\n",
    "def method2(temperatures):\n",
    "    temp = np.tile(temperatures, 3).reshape([3, len(temperatures)])\n",
    "    lower = np.array([-np.inf, -2, 2]).reshape([3, 1])\n",
    "    upper = np.array([-2, 2, 15]).reshape([3, 1])\n",
    "\n",
    "    temp = np.where((temp > lower) & (temp <= upper), temp, np.nan )\n",
    "    return(np.nanmean(temp, axis=1))\n",
    "\n",
    "%timeit method1(temperatures)\n",
    "%timeit method2(temperatures)"
   ]
  },
  {
   "cell_type": "code",
   "execution_count": null,
   "metadata": {},
   "outputs": [],
   "source": [
    "# boolean indexing returns a 1-D array containing all the elements in the indexed array \n",
    "# corresponding to all the true elements in the boolean array\n",
    "a1 = np.arange(6).reshape([2, 3])\n",
    "b  = np.array(\n",
    "        [[True, False, False],\n",
    "         [False, True, True]])\n",
    "print(a1[b])"
   ]
  },
  {
   "cell_type": "code",
   "execution_count": null,
   "metadata": {},
   "outputs": [],
   "source": [
    "# unless the array has more dimension than the index array\n",
    "a2 = a1.reshape([3, 2])\n",
    "b = np.array([True, False, True])\n",
    "a2[b]"
   ]
  },
  {
   "cell_type": "code",
   "execution_count": null,
   "metadata": {},
   "outputs": [],
   "source": [
    "# combining the indexing method\n",
    "a1 = np.arange(16).reshape([4,4])\n",
    "print(a1)\n",
    "print(a1[:2, [1, 3]])\n"
   ]
  },
  {
   "cell_type": "code",
   "execution_count": null,
   "metadata": {},
   "outputs": [],
   "source": [
    "# assignment\n",
    "a = np.arange(10)\n",
    "print(a)"
   ]
  },
  {
   "cell_type": "code",
   "execution_count": null,
   "metadata": {},
   "outputs": [],
   "source": [
    "a[:] = 1\n",
    "print(a)"
   ]
  },
  {
   "cell_type": "code",
   "execution_count": null,
   "metadata": {},
   "outputs": [],
   "source": [
    "# change to another object\n",
    "a = 1\n",
    "print(a)"
   ]
  },
  {
   "cell_type": "markdown",
   "metadata": {},
   "source": [
    "# Change shape/dimension"
   ]
  },
  {
   "cell_type": "code",
   "execution_count": null,
   "metadata": {},
   "outputs": [],
   "source": [
    "a = np.floor(10*np.random.random((3,4)))\n",
    "print(a)\n",
    "print('shape is', a.shape)"
   ]
  },
  {
   "cell_type": "code",
   "execution_count": null,
   "metadata": {},
   "outputs": [],
   "source": [
    "print(a.flatten())\n",
    "print(a.reshape(4, 3))\n",
    "print(a.reshape(6, 2))"
   ]
  },
  {
   "cell_type": "code",
   "execution_count": null,
   "metadata": {},
   "outputs": [],
   "source": [
    "# transposed\n",
    "a.T"
   ]
  },
  {
   "cell_type": "code",
   "execution_count": null,
   "metadata": {},
   "outputs": [],
   "source": [
    "# stacking\n",
    "a = [1, 2, 3]\n",
    "b = [3, 5, 6]\n",
    "\n",
    "print(np.vstack([a, b]))\n",
    "print(np.hstack([a, b]))\n",
    "print(np.concatenate([a, b]))"
   ]
  },
  {
   "cell_type": "code",
   "execution_count": null,
   "metadata": {},
   "outputs": [],
   "source": [
    "a = np.array(a).reshape(1, 3)\n",
    "b = np.array(b).reshape(1, 3)\n",
    "print(np.concatenate([a, b], axis=0))\n"
   ]
  },
  {
   "cell_type": "markdown",
   "metadata": {},
   "source": [
    "# Armetic operationb"
   ]
  },
  {
   "cell_type": "code",
   "execution_count": null,
   "metadata": {},
   "outputs": [],
   "source": [
    "a = np.array([2, 2, 2, 2])\n",
    "b = np.array([1, 2, 4, 8])\n",
    "\n",
    "\n",
    "print('a:', a)\n",
    "print('b:', b)\n",
    "\n",
    "print('+:', b + a)\n",
    "print('-:', b - a)\n",
    "print('*:', b * a)\n",
    "print('/:', b / a)\n",
    "print('%:', b % a)\n",
    "print('@:', b @ a)      # Unlike in many matrix languages, the product operator * operates elementwise in NumPy arrays. \n",
    "print('dot:', b.dot(a)) # The matrix product can be performed using the @ operator (in python >=3.5) or the dot function or method:"
   ]
  },
  {
   "cell_type": "code",
   "execution_count": null,
   "metadata": {},
   "outputs": [],
   "source": [
    "print('b2:', b ** 2)\n",
    "print('b2:', b ** 0.5)"
   ]
  },
  {
   "cell_type": "code",
   "execution_count": null,
   "metadata": {},
   "outputs": [],
   "source": [
    "# += and *=, act in place to modify an existing array\n",
    "print(a)\n",
    "a += 1\n",
    "print(a)"
   ]
  },
  {
   "cell_type": "code",
   "execution_count": null,
   "metadata": {},
   "outputs": [],
   "source": [
    "# unary operations\n",
    "print(b.sum())\n",
    "print(b.min())\n",
    "print(b.max())"
   ]
  },
  {
   "cell_type": "code",
   "execution_count": null,
   "metadata": {},
   "outputs": [],
   "source": [
    "# for multidimensional\n",
    "b = np.arange(12).reshape(3,4)\n",
    "print(b.sum())\n",
    "print(b.sum(axis=0))\n",
    "print(b.sum(axis=1))"
   ]
  },
  {
   "cell_type": "markdown",
   "metadata": {},
   "source": [
    "# Common Numpy functions"
   ]
  },
  {
   "cell_type": "markdown",
   "metadata": {},
   "source": [
    "```\n",
    "all, any, apply_along_axis, \n",
    "argmax, argmin, argsort, average, bincount, ceil, \n",
    "clip, conj, corrcoef, cov, cross, cumprod, cumsum, diff, dot, floor, inner, inv, lexsort, \n",
    "max, maximum, mean, median, min, minimum, nonzero, outer, prod, re, \n",
    "round, sort, std, sum, trace, transpose, var, vdot, vectorize, where\n",
    "```"
   ]
  },
  {
   "cell_type": "code",
   "execution_count": null,
   "metadata": {},
   "outputs": [],
   "source": [
    "# clip values\n",
    "a = np.array([3, 8, 7, 5, 4])\n",
    "np.clip(a, 4, 6)"
   ]
  },
  {
   "cell_type": "code",
   "execution_count": null,
   "metadata": {},
   "outputs": [],
   "source": [
    "# cumsum\n",
    "a.cumsum()"
   ]
  },
  {
   "cell_type": "code",
   "execution_count": null,
   "metadata": {},
   "outputs": [],
   "source": [
    "# difference\n",
    "a = a.cumsum()\n",
    "print(np.diff(a))\n",
    "print(np.diff(a, 2))"
   ]
  },
  {
   "cell_type": "code",
   "execution_count": null,
   "metadata": {},
   "outputs": [],
   "source": [
    "# where to replace\n",
    "a = np.array([8, 3, 5, 7, 9])\n",
    "np.where(a > 5, a, np.nan)"
   ]
  },
  {
   "cell_type": "code",
   "execution_count": null,
   "metadata": {},
   "outputs": [],
   "source": [
    "b = np.where(a > 5, a, np.nan)\n",
    "b.sum()"
   ]
  },
  {
   "cell_type": "code",
   "execution_count": null,
   "metadata": {},
   "outputs": [],
   "source": [
    "# exclude np.nan\n",
    "np.nansum(b)"
   ]
  },
  {
   "cell_type": "code",
   "execution_count": null,
   "metadata": {},
   "outputs": [],
   "source": [
    "# repeat and tile\n",
    "a = np.arange(3)\n",
    "print(np.repeat(a, 4))\n",
    "print(np.tile(a, 4))"
   ]
  },
  {
   "cell_type": "code",
   "execution_count": null,
   "metadata": {},
   "outputs": [],
   "source": [
    "# argmax, argmin, argsort nonzero returns the result of index, \n",
    "# very helpful when you need to based on an array's value to located an element in another array\n",
    "\n",
    "# find the precip on different land cover types\n",
    "landcover     = np.random.randint(1, 5, [5, 5])\n",
    "precipitation = np.random.random([5, 5])\n",
    "\n",
    "print('landuse\\n', landcover)\n",
    "print('landuse\\n', precipitation)\n",
    "\n",
    "# plot\n",
    "\n",
    "\n",
    "# find location of irrigated land\n",
    "\n",
    "\n",
    "# identify the precipitation on these cells and calculate the mean\n",
    "\n",
    "\n",
    "\n",
    "# identify the wetest and driest land cover and their mean precipitation"
   ]
  },
  {
   "cell_type": "code",
   "execution_count": null,
   "metadata": {},
   "outputs": [],
   "source": [
    "np.clip\n"
   ]
  },
  {
   "cell_type": "code",
   "execution_count": null,
   "metadata": {},
   "outputs": [],
   "source": [
    "# How to get the common items between two python numpy arrays?\n",
    "a = [1, 3, 5, 7, 9]\n",
    "b = [2, 3, 4, 5, 6]\n",
    "np.intersect1d(a, b)"
   ]
  },
  {
   "cell_type": "code",
   "execution_count": null,
   "metadata": {},
   "outputs": [],
   "source": [
    "# Other useful function\n",
    "\n",
    "# calculate histogram/freq\n",
    "mu, sigma = 2, 0.5\n",
    "v = np.random.normal(mu,sigma,10000)\n",
    "(n, bins) = np.histogram(v, bins=50, density=True)\n",
    "plt.plot(.5*(bins[1:]+bins[:-1]), n)"
   ]
  }
 ],
 "metadata": {
  "kernelspec": {
   "display_name": "Python 3",
   "language": "python",
   "name": "python3"
  },
  "language_info": {
   "codemirror_mode": {
    "name": "ipython",
    "version": 3
   },
   "file_extension": ".py",
   "mimetype": "text/x-python",
   "name": "python",
   "nbconvert_exporter": "python",
   "pygments_lexer": "ipython3",
   "version": "3.7.6"
  }
 },
 "nbformat": 4,
 "nbformat_minor": 4
}
