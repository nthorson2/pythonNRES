{
 "cells": [
  {
   "cell_type": "markdown",
   "metadata": {},
   "source": [
    "### 1. Given two 1-d arrays of simulated values and observed values, Write a Pyhton function to calculate the mean error, coefficient of determination and nash coefficient. Not allowed to use loops."
   ]
  },
  {
   "cell_type": "code",
   "execution_count": 36,
   "metadata": {},
   "outputs": [],
   "source": [
    "import numpy as np\n",
    "\n",
    "def mean_error(obs, sim):\n",
    "    obs = np.array(obs)\n",
    "    sim = np.array(sim)\n",
    "    return np.nanmean(sim - obs)\n",
    "\n",
    "def coeff_determination(obs, sim):\n",
    "    obs = np.array(obs)\n",
    "    sim = np.array(sim)\n",
    "    n = obs.size\n",
    "    return (n * np.nansum(obs * sim) - np.nansum(obs) * np.nansum(sim)) ** 2 / \\\n",
    "            ((n * np.nansum(obs ** 2) - np.nansum(obs) ** 2) * (n * np.nansum(sim ** 2) - np.nansum(sim) ** 2))\n",
    "\n",
    "def coeff_nash(obs, sim):\n",
    "    obs = np.array(obs)\n",
    "    sim = np.array(sim)\n",
    "    obs_mean = np.nanmean(obs)\n",
    "    return 1 - np.nansum((sim - obs) ** 2) / np.nansum((sim - obs_mean) ** 2)"
   ]
  },
  {
   "cell_type": "code",
   "execution_count": 37,
   "metadata": {},
   "outputs": [
    {
     "name": "stdout",
     "output_type": "stream",
     "text": [
      "[1, 40, 31, 40, 57, 88]\n",
      "[-13, 79, 71, 81, 104, 42]\n",
      "coefficient of determination: 0.1946307482217675\n",
      "Nash's efficiency: 0.10506359491240702\n"
     ]
    }
   ],
   "source": [
    "obs = [1, 40, 31, 40, 57, 88]\n",
    "sim = [-13, 79, 71, 81, 104, 42]\n",
    "\n",
    "\n",
    "print(obs)\n",
    "print(sim)\n",
    "\n",
    "print('coefficient of determination:', coeff_determination(obs, sim))\n",
    "print('Nash\\'s efficiency:', coeff_nash(obs, sim))"
   ]
  },
  {
   "cell_type": "markdown",
   "metadata": {},
   "source": [
    "### 2. Given `x` and `y`, write a Python function to perform linear regression which returns `a`, `c` and `sum of square errors` where `ax + c = y` \n",
    "```python\n",
    "def linear_regression(x, y):\n",
    "    \n",
    "    return a, c, ssqe\n",
    "\n",
    "```"
   ]
  },
  {
   "cell_type": "code",
   "execution_count": 48,
   "metadata": {},
   "outputs": [
    {
     "data": {
      "text/plain": [
       "(0.631968168481974, 33.59736345002211, 6853.15541979824)"
      ]
     },
     "execution_count": 48,
     "metadata": {},
     "output_type": "execute_result"
    }
   ],
   "source": [
    "def linear_regression(x, y):\n",
    "    # get rid of nans\n",
    "    not_nan = ~ (np.isnan(x) | np.isnan(y))\n",
    "    x = np.array(x)[not_nan]\n",
    "    y = np.array(y)[not_nan]\n",
    "    if x.size != y.size:\n",
    "        print('the sizes are different between x and y')\n",
    "        return\n",
    "    sumx = x.sum()\n",
    "    sumxx = (x ** 2).sum()\n",
    "    sumy = y.sum()\n",
    "    sumxy = (x * y).sum()\n",
    "    n = x.size\n",
    "    a = (sumxy - sumx * sumy / n) / (sumxx - sumx ** 2 / n)\n",
    "    c = y.mean() - a * x.mean()\n",
    "    ssqe = np.nansum((a * x + c - y) ** 2)\n",
    "    return a, c, ssqe\n",
    "\n",
    "x = obs\n",
    "y = sim\n",
    "linear_regression(x, y)"
   ]
  },
  {
   "cell_type": "code",
   "execution_count": 47,
   "metadata": {},
   "outputs": [
    {
     "data": {
      "text/plain": [
       "[1, 40, 31, 40, 57, 88]"
      ]
     },
     "execution_count": 47,
     "metadata": {},
     "output_type": "execute_result"
    }
   ],
   "source": [
    "import matplotlib.pyplot as plt\n",
    "\n",
    "plt.scatter(range())"
   ]
  },
  {
   "cell_type": "markdown",
   "metadata": {},
   "source": [
    "### 3. Eestimate the mean precipitation on different land use types.\n",
    "\n",
    "```python\n",
    "landuse       = np.random.randint(1, 5, [5, 5])\n",
    "precipitation = np.random.random([5, 5])\n",
    "\n",
    "print('landuse\\n', landuse)\n",
    "print('landuse\\n', precipitation)\n",
    "```\n",
    "\n"
   ]
  },
  {
   "cell_type": "code",
   "execution_count": 107,
   "metadata": {},
   "outputs": [
    {
     "name": "stdout",
     "output_type": "stream",
     "text": [
      "landuse\n",
      " [[2 4 3 3 2]\n",
      " [3 1 1 1 4]\n",
      " [3 3 2 3 4]\n",
      " [4 4 3 4 1]\n",
      " [1 4 2 4 3]]\n",
      "precip \n",
      " [[0.66732029 0.24066232 0.36044915 0.6125942  0.3711299 ]\n",
      " [0.31692713 0.17567398 0.3604778  0.01410569 0.22511356]\n",
      " [0.82560462 0.0781952  0.93280373 0.6689976  0.51210169]\n",
      " [0.81030755 0.58564598 0.64555393 0.90347877 0.5435653 ]\n",
      " [0.25306865 0.74882032 0.09286459 0.67419406 0.57715862]]\n"
     ]
    },
    {
     "data": {
      "text/plain": [
       "[('landuse1', 0.2693782832599876),\n",
       " ('landuse2', 0.5160296263889632),\n",
       " ('landuse3', 0.5106850552637753),\n",
       " ('landuse4', 0.5875405319285558)]"
      ]
     },
     "execution_count": 107,
     "metadata": {},
     "output_type": "execute_result"
    }
   ],
   "source": [
    "# create the datasets\n",
    "landuse = np.random.randint(1, 5, [5, 5])\n",
    "precip  = np.random.random([5, 5])\n",
    "\n",
    "print('landuse\\n', landuse)\n",
    "print('precip \\n', precip)\n",
    "\n",
    "# calculation\n",
    "def landuse_precip(landuse, precip, prefix='landuse'):\n",
    "    return [(f'{prefix}{i}', (precip[landuse == i]).mean()) for i in np.unique(landuse)]\n",
    "\n",
    "landuse_precip(landuse, precip)"
   ]
  },
  {
   "cell_type": "markdown",
   "metadata": {},
   "source": [
    "### 4. We have two array. The first array is the distribution of irrigated land. The second array is the precipitation. \n",
    "\n",
    "A. Create a function to create the buffer zones of varied distances to the irrigated land.\n",
    "\n",
    "B. Calculate the mean precipitation in the buffer zones of different distance to the irrigated land.\n"
   ]
  },
  {
   "cell_type": "code",
   "execution_count": 110,
   "metadata": {},
   "outputs": [
    {
     "data": {
      "text/plain": [
       "<matplotlib.image.AxesImage at 0x20c1bc1da88>"
      ]
     },
     "execution_count": 110,
     "metadata": {},
     "output_type": "execute_result"
    },
    {
     "data": {
      "image/png": "[encoded data removed]",
      "text/plain": [
       "<Figure size 432x288 with 1 Axes>"
      ]
     },
     "metadata": {
      "needs_background": "light"
     },
     "output_type": "display_data"
    }
   ],
   "source": [
    "import numpy as np\n",
    "import matplotlib.pyplot as plt\n",
    "landuse = [\n",
    "    [0, 0, 0, 0, 0, 0],\n",
    "    [0, 0, 0, 0, 0, 0],\n",
    "    [0, 0, 1, 0, 0, 0],\n",
    "    [0, 0, 1, 1, 1, 0],\n",
    "    [0, 0, 1, 0, 0, 0],\n",
    "    [0, 0, 0, 0, 0, 0],\n",
    "]\n",
    "precip  = np.random.random([6, 6])\n",
    "plt.imshow(landuse)"
   ]
  },
  {
   "cell_type": "code",
   "execution_count": 99,
   "metadata": {},
   "outputs": [
    {
     "data": {
      "text/plain": [
       "<matplotlib.colorbar.Colorbar at 0x20c1b7c5548>"
      ]
     },
     "execution_count": 99,
     "metadata": {},
     "output_type": "execute_result"
    },
    {
     "data": {
      "image/png": "[encoded data removed]",
      "text/plain": [
       "<Figure size 432x288 with 2 Axes>"
      ]
     },
     "metadata": {
      "needs_background": "light"
     },
     "output_type": "display_data"
    }
   ],
   "source": [
    "# first define an array with the distance to the center\n",
    "distance_x = np.arange(13).reshape([1, 13])\n",
    "distance_y = np.arange(13).reshape([13, 1])\n",
    "distance = np.sqrt((distance_x - 6) ** 2 + (distance_y - 6) ** 2) #.astype(np.int)\n",
    "plt.imshow(distance, cmap='jet'); plt.colorbar()"
   ]
  },
  {
   "cell_type": "code",
   "execution_count": 102,
   "metadata": {},
   "outputs": [
    {
     "data": {
      "text/plain": [
       "<matplotlib.colorbar.Colorbar at 0x20c1b97d408>"
      ]
     },
     "execution_count": 102,
     "metadata": {},
     "output_type": "execute_result"
    },
    {
     "data": {
      "image/png": "[encoded data removed]",
      "text/plain": [
       "<Figure size 432x288 with 2 Axes>"
      ]
     },
     "metadata": {
      "needs_background": "light"
     },
     "output_type": "display_data"
    }
   ],
   "source": [
    "def create_buffer(landuse, distance=distance):\n",
    "    \n",
    "    buf = np.full_like(landuse, 1e9)\n",
    "    n, m = buf.shape\n",
    "    index = np.nonzero(landuse)\n",
    "    for i, j in np.array(index).T:\n",
    "        distance_buf = distance[(6-i):(6-i+n), (6-j):(6-j+m)]\n",
    "        buf = np.where(distance_buf < buf, distance_buf, buf)\n",
    "    return buf\n",
    "\n",
    "buf = create_buffer(landuse)\n",
    "plt.imshow(buf, cmap='jet'); plt.colorbar()"
   ]
  },
  {
   "cell_type": "code",
   "execution_count": 111,
   "metadata": {},
   "outputs": [
    {
     "data": {
      "text/plain": [
       "[('0.0', 0.5417397464887708),\n",
       " ('1.0', 0.6100394231052623),\n",
       " ('1.4142135623730951', 0.5175594391242815),\n",
       " ('2.0', 0.37299250749737706),\n",
       " ('2.23606797749979', 0.5682777948276453),\n",
       " ('2.8284271247461903', 0.6372323798571423),\n",
       " ('3.1622776601683795', 0.769356598315023)]"
      ]
     },
     "execution_count": 111,
     "metadata": {},
     "output_type": "execute_result"
    }
   ],
   "source": [
    "landuse_precip(buf, precip, prefix='')"
   ]
  },
  {
   "cell_type": "markdown",
   "metadata": {},
   "source": [
    "### 5. Write a Python function to find the nearest point of a list of given points. You are not allowed to use any type of loops.\n",
    "e. g. points = [(3, 4), (1, 2), (7, 8), (9, 4), (6, 5), (8, 7), (4, 7)]\n",
    "\n",
    "Hint: using numpy to create a N x N array which contain the distances between each ith an jth point pair; where N is the numer of points."
   ]
  },
  {
   "cell_type": "code",
   "execution_count": 118,
   "metadata": {},
   "outputs": [
    {
     "data": {
      "text/plain": [
       "array([1, 0, 5, 4, 5, 2, 4], dtype=int64)"
      ]
     },
     "execution_count": 118,
     "metadata": {},
     "output_type": "execute_result"
    }
   ],
   "source": [
    "points = [(3, 4), (1, 2), (7, 8), (9, 4), (6, 5), (8, 7), (4, 7)]\n",
    "points = np.array(points)\n",
    "\n",
    "distances = ((points.reshape(7, 1, 2) - points.reshape(1, 7, 2)) ** 2).sum(axis=2)\n",
    "distances[np.arange(7), np.arange(7)] = 1e9\n",
    "np.argmin(distances, axis=0)"
   ]
  }
 ],
 "metadata": {
  "kernelspec": {
   "display_name": "Python 3",
   "language": "python",
   "name": "python3"
  },
  "language_info": {
   "codemirror_mode": {
    "name": "ipython",
    "version": 3
   },
   "file_extension": ".py",
   "mimetype": "text/x-python",
   "name": "python",
   "nbconvert_exporter": "python",
   "pygments_lexer": "ipython3",
   "version": "3.7.6"
  }
 },
 "nbformat": 4,
 "nbformat_minor": 4
}
