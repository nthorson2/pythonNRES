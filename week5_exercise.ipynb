{
 "cells": [
  {
   "cell_type": "markdown",
   "metadata": {},
   "source": [
    "### 1. Write a format string (using `str.format()` and `f'string'`) that will take the following four element tuple:\n",
    "\n",
    "`( 2, 123.4567, 10000, 12345.67)`\n",
    "\n",
    "and produce:\n",
    "    \n",
    "`'file_002 :   123.46, 1.00e+04, 1.23e+04'`"
   ]
  },
  {
   "cell_type": "markdown",
   "metadata": {},
   "source": [
    "### 2. Write a python function that output the following formatted string based on the input iterable:\n",
    "\n",
    "`'The n numbers are: i1, i2, i3, ...'`\n",
    "    \n",
    "where `n` is the number in the iterable and `i1, i2 ...` are the items inside the iterable. \n",
    "\n",
    "for example:\n",
    "\n",
    "`func([1, 2, 3])` will return `'The 3 numbers are: 1, 2, 3'`\n",
    "\n",
    "`func((6, 7, 8, 9))` will return `'The 4 numbers are: 6, 7, 8, 9'`"
   ]
  },
  {
   "cell_type": "markdown",
   "metadata": {},
   "source": [
    "### 3. Write a similar function as the last one but it inputs variable-length arguments instead\n",
    "\n",
    "`func(1, 2, 3)` will return `'The 3 numbers are: 1, 2, 3'`\n",
    "\n",
    "`func(6, 7, 8, 9)` will return `'The 4 numbers are: 6, 7, 8, 9'`"
   ]
  },
  {
   "cell_type": "markdown",
   "metadata": {},
   "source": [
    "### 4. Write a format string (f'string') that will take the following tuple and return the formatted string below:\n",
    "\n",
    "Tuple: `(4, 30, 2017, 2, 27)`\n",
    "\n",
    "Return: `'02 27 2017 04 30'`"
   ]
  },
  {
   "cell_type": "markdown",
   "metadata": {},
   "source": [
    "### 5. Write a format string (f'string') that will take the following input and return the formatted string below:\n",
    "\n",
    "Input: `['oranges', 1.3, 'lemons', 1.1]`\n",
    "    \n",
    "Return: `'The weight of an orange is 1.3 and the weight of a lemon is 1.1 and the total weight is 2.4'`"
   ]
  },
  {
   "cell_type": "markdown",
   "metadata": {},
   "source": [
    "### 6. Write a function that will format each item in an input iterable object into a customized width \n",
    "\n",
    "syntax: `func(iterable, width)`\n",
    "\n",
    "for example:\n",
    "    \n",
    "`func([1, 2, 3, 4, 5], 3)`  return `'  1  2  3  4  5'`\n",
    "\n",
    "`func([1, 2, 3, 4, 5], 2)`  return `' 1 2 3 4 5'`"
   ]
  },
  {
   "cell_type": "markdown",
   "metadata": {},
   "source": [
    "### 7. The USGS Water Data service provides retrival of streamflow data at the USGS stream gages. The download url follows the pattern below. Write a Python program 1) generate the url for a given list of gage numbers; 2) read this url and download the data to csv file (do not use numpy or pandas); 3) based on the downloaded data calculate the monthly stasticstics including maximum, minimum and average of the streamflow data and save it to another csv file. The data need to be formatted to 2 decimal digits. 4) calculate the average annual runoff of each gage (expressed in acre-feet) \n",
    "\n",
    "\n",
    "url: https://waterdata.usgs.gov/nwis/dv?&cb_00060=on&format=rdb&site_no=06803495&referred_module=sw&period=&begin_date=2019-02-11&end_date=2020-02-11\n",
    "\n",
    "where `&site_no=06803495` define which gages are included in this data retrieval; for multiple gages, simply repeat it, e.g. `&site_no=06803495&site_no=06803486`;\n",
    "\n",
    "the datas are specified by `&period=&begin_date=2018-02-11&end_date=2020-02-11`\n",
    "\n",
    "You could test your program using the gages `['06803495', '06803486']` for the period between `2000-10-1` and `2019-9-30`\n",
    "\n",
    "Hint 1: using the str.format() method to construct the url.\n",
    "\n",
    "Hint 2: use the `urllib.request.urlopen()` to download the url:\n",
    "```python\n",
    "    from urllib.request import urlopen\n",
    "    f = urlopen(a_url)\n",
    "    lines = f.readlines()\n",
    "```\n",
    "\n",
    "Hint 3: skip the lines starts with `#` in the downloaded data.\n",
    "\n",
    "Hint 4: print some of the downloaded lines and identify the elements in each line.\n",
    "\n",
    "Hint 5: using the str.format() or f-string method to write `csv` file.\n",
    "\n",
    "Hint 6: the monthly stasticstics refer to the time series of monthly stasticstics.\n",
    "\n",
    "Hint 7: for the average annual runoff, you need to calculate the total runoff for each year and then calculate average of these annual runoff."
   ]
  }
 ],
 "metadata": {
  "kernelspec": {
   "display_name": "Python 3",
   "language": "python",
   "name": "python3"
  },
  "language_info": {
   "codemirror_mode": {
    "name": "ipython",
    "version": 3
   },
   "file_extension": ".py",
   "mimetype": "text/x-python",
   "name": "python",
   "nbconvert_exporter": "python",
   "pygments_lexer": "ipython3",
   "version": "3.7.6"
  }
 },
 "nbformat": 4,
 "nbformat_minor": 4
}
