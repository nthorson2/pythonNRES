{
 "cells": [
  {
   "cell_type": "markdown",
   "metadata": {},
   "source": [
    "### 1. Given two 1-d arrays of simulated values and observed values, Write a Pyhton function \n",
    "\n",
    "### to calculate the mean error, coefficient of determination and nash coefficient. Loops are NOT allowed."
   ]
  },
  {
   "cell_type": "markdown",
   "metadata": {},
   "source": [
    "### 2. Given `x` and `y`, write a Python function to perform linear regression \n",
    "\n",
    "### which returns `a`, `c` and `sum of square errors` where `ax + c = y` \n",
    "```python\n",
    "def linear_regression(x, y):\n",
    "    \n",
    "    return a, c, ssqe\n",
    "```"
   ]
  },
  {
   "cell_type": "markdown",
   "metadata": {},
   "source": [
    "### 3. Eestimate the mean precipitation on different land use types.\n",
    "\n",
    "```python\n",
    "landuse = np.random.randint(1, 5, [5, 5])\n",
    "precip  = np.random.random([5, 5])\n",
    "\n",
    "print('landuse\\n', landuse)\n",
    "print('precip \\n', precip)\n",
    "```\n",
    "\n"
   ]
  },
  {
   "cell_type": "markdown",
   "metadata": {},
   "source": [
    "### 4. We have two array. The first array is the distribution of irrigated land. \n",
    "\n",
    "### The second array is the precipitation. \n",
    "\n",
    "```python\n",
    "landuse = np.random.randint(0, 1, [6, 6])\n",
    "precip  = np.random.random([6, 6])\n",
    "\n",
    "print('landuse\\n', landuse)\n",
    "print('precip \\n', precip)\n",
    "```\n",
    "\n",
    "A. Create a function to create the buffer zones of varied distances to the irrigated land.\n",
    "\n",
    "B. Calculate the mean precipitation in the buffer zones of different distance to the irrigated land.\n"
   ]
  },
  {
   "cell_type": "markdown",
   "metadata": {},
   "source": [
    "### 5. Write a Python function to find the nearest point of a list of given points. \n",
    "\n",
    "### You are not allowed to use any type of loops.\n",
    "\n",
    "e. g. points = [(3, 4), (1, 2), (7, 8), (9, 4), (6, 5), (8, 7), (4, 7)]\n",
    "\n",
    "Hint: using numpy to create a N x N array which contain the distances between each ith an jth point pair; where N is the numer of points."
   ]
  }
 ],
 "metadata": {
  "kernelspec": {
   "display_name": "Python 3",
   "language": "python",
   "name": "python3"
  },
  "language_info": {
   "codemirror_mode": {
    "name": "ipython",
    "version": 3
   },
   "file_extension": ".py",
   "mimetype": "text/x-python",
   "name": "python",
   "nbconvert_exporter": "python",
   "pygments_lexer": "ipython3",
   "version": "3.7.6"
  }
 },
 "nbformat": 4,
 "nbformat_minor": 4
}
