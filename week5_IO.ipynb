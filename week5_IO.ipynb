{
 "cells": [
  {
   "cell_type": "markdown",
   "metadata": {},
   "source": [
    "# String formatting"
   ]
  },
  {
   "cell_type": "markdown",
   "metadata": {},
   "source": [
    "## The legacy method"
   ]
  },
  {
   "cell_type": "code",
   "execution_count": 1,
   "metadata": {},
   "outputs": [
    {
     "name": "stdout",
     "output_type": "stream",
     "text": [
      "3.142\n",
      "1, 2, 3\n",
      "\"      test\", \"test      \"\n",
      "xylop\n"
     ]
    }
   ],
   "source": [
    "import math\n",
    "print('%5.3f' % (math.pi))   \n",
    "print('%d, %d, %d' %(1, 2, 3))   \n",
    "print('\"%10s\", \"%-10s\"' % ('test', 'test'))\n",
    "print('%.5s' % ('xylophone',))"
   ]
  },
  {
   "cell_type": "markdown",
   "metadata": {},
   "source": [
    "## str.format() method"
   ]
  },
  {
   "cell_type": "code",
   "execution_count": 2,
   "metadata": {},
   "outputs": [
    {
     "name": "stdout",
     "output_type": "stream",
     "text": [
      "1, 2, 3\n",
      "1, 2, 2\n",
      "second\n",
      "Pi is 3.141592653589793 and e is 2.718281828459045\n",
      "Pi is 3.141592653589793 and e is 2.718281828459045\n"
     ]
    }
   ],
   "source": [
    "# member and element access (index; attribute; argument name)\n",
    "print('{0}, {1}, {2}'.format(1, 2, 3))                                     # Access arguments by ordinal position\n",
    "print('{value1}, {value2}, {value2}'.format(value1=1, value2=2, value3=3)) # Access keyword arguments by name\n",
    "print('{[1]}'.format(['first', 'second', 'third']))                        # Access element by index\n",
    "print(\"Pi is {} and e is {}\".format(math.pi, math.e))                      # Access element attribute\n",
    "print(\"Pi is {0.pi} and e is {0.e}\".format(math))                          # Access element attribute"
   ]
  },
  {
   "cell_type": "code",
   "execution_count": 3,
   "metadata": {},
   "outputs": [
    {
     "name": "stdout",
     "output_type": "stream",
     "text": [
      "Harold's a clever dog\n",
      "Harold's a clever 'dog'\n"
     ]
    }
   ],
   "source": [
    "# conversion to machine readable\n",
    "print(\"Harold's a clever {0!s}\".format('dog'))\n",
    "print(\"Harold's a clever {0!r}\".format('dog')) # is calls repr()"
   ]
  },
  {
   "cell_type": "code",
   "execution_count": 4,
   "metadata": {},
   "outputs": [
    {
     "name": "stdout",
     "output_type": "stream",
     "text": [
      "\"text       left aligned\"\n",
      "\"      text right aligned\"\n",
      "\"   text    center aligned\"\n"
     ]
    }
   ],
   "source": [
    "# alignment\n",
    "print('\"{:<10} left aligned\"'.format('text'))\n",
    "print('\"{:>10} right aligned\"'.format('text'))\n",
    "print('\"{:^10} center aligned\"'.format('text'))"
   ]
  },
  {
   "cell_type": "code",
   "execution_count": 5,
   "metadata": {},
   "outputs": [
    {
     "data": {
      "text/plain": [
       "'hey hello     '"
      ]
     },
     "execution_count": 5,
     "metadata": {},
     "output_type": "execute_result"
    }
   ],
   "source": [
    "# Specify width (string automatically align left, fill with spaces)\n",
    "'hey {:10}'.format('hello')"
   ]
  },
  {
   "cell_type": "code",
   "execution_count": 6,
   "metadata": {},
   "outputs": [
    {
     "name": "stdout",
     "output_type": "stream",
     "text": [
      "xylophone\n",
      "xylop\n"
     ]
    }
   ],
   "source": [
    "# for long string truncation\n",
    "print('{:5}'.format('xylophone'))\n",
    "print('{:.5}'.format('xylophone'))"
   ]
  },
  {
   "cell_type": "code",
   "execution_count": 7,
   "metadata": {},
   "outputs": [
    {
     "name": "stdout",
     "output_type": "stream",
     "text": [
      "\"  xylop   \"\n"
     ]
    }
   ],
   "source": [
    "# width + truncation\n",
    "print('\"{:^10.5}\"'.format('xylophone'))"
   ]
  },
  {
   "cell_type": "code",
   "execution_count": 8,
   "metadata": {},
   "outputs": [
    {
     "name": "stdout",
     "output_type": "stream",
     "text": [
      "110 is the binary value of 6\n",
      "d is character of 100\n"
     ]
    }
   ],
   "source": [
    "# binary and character representation\n",
    "print('{0:b} is the binary value of {0}'.format(6))\n",
    "\n",
    "print('{0:c} is character of {0}'.format(100))"
   ]
  },
  {
   "cell_type": "code",
   "execution_count": 9,
   "metadata": {},
   "outputs": [
    {
     "name": "stdout",
     "output_type": "stream",
     "text": [
      "123\n",
      "  123\n",
      "1,000,000\n"
     ]
    }
   ],
   "source": [
    "# numerical representation: integer numbers\n",
    "print('{:d}'.format(123))\n",
    "print('{:5d}'.format(123))\n",
    "print('{:,}'.format(1000000))"
   ]
  },
  {
   "cell_type": "code",
   "execution_count": 10,
   "metadata": {},
   "outputs": [
    {
     "name": "stdout",
     "output_type": "stream",
     "text": [
      "1.000000e-10\n",
      "1.000000E-10\n",
      "0.214286\n",
      "2142.86\n",
      "2.14286e+06\n",
      "66.000000%\n",
      "3.33\n"
     ]
    }
   ],
   "source": [
    "# numerical representation: float numbers\n",
    "print('{:e}'.format(0.0000000001))\n",
    "print('{:E}'.format(0.0000000001))\n",
    "print('{:f}'.format(3/14.0))\n",
    "print('{:g}'.format(30000/14.0))\n",
    "print('{:g}'.format(30000000/14.0))\n",
    "print('{:%}'.format(0.66))\n",
    "print('{:.3}'.format(10/3))"
   ]
  },
  {
   "cell_type": "code",
   "execution_count": 11,
   "metadata": {},
   "outputs": [
    {
     "name": "stdout",
     "output_type": "stream",
     "text": [
      "0000000002\n",
      "0000200000\n",
      "2000000000\n"
     ]
    }
   ],
   "source": [
    "# padding\n",
    "print('{:>010}'.format(2))\n",
    "print('{:^010}'.format(2))\n",
    "print('{:<010}'.format(2))"
   ]
  },
  {
   "cell_type": "code",
   "execution_count": 12,
   "metadata": {},
   "outputs": [
    {
     "data": {
      "text/plain": [
       "'*******Hello********'"
      ]
     },
     "execution_count": 12,
     "metadata": {},
     "output_type": "execute_result"
    }
   ],
   "source": [
    "\"{:*^20s}\".format(\"Hello\")"
   ]
  },
  {
   "cell_type": "code",
   "execution_count": 13,
   "metadata": {},
   "outputs": [
    {
     "name": "stdout",
     "output_type": "stream",
     "text": [
      "     1.235     2.346     3.457\n",
      "Number  1:     1.235\n",
      "Number  2:     2.346\n",
      "Number  3:     3.457\n",
      "\n"
     ]
    }
   ],
   "source": [
    "# using str repeatition to repeat identical format specs\n",
    "print(('{:10.3f}' * 3).format(1.23456, 2.34567, 3.45678))\n",
    "print(('Number {:2d}:{:10.3f}\\n' * 3).format(1, 1.23456, 2, 2.34567, 3, 3.45678))"
   ]
  },
  {
   "cell_type": "code",
   "execution_count": 14,
   "metadata": {},
   "outputs": [
    {
     "name": "stdout",
     "output_type": "stream",
     "text": [
      "3.14159  \n",
      " 3.14159 \n",
      "  3.14159\n",
      " 3.14159e+00\n"
     ]
    }
   ],
   "source": [
    "# you can also use the `format` function for a value with the same format spec syntax\n",
    "print(format(math.pi, '<9.5f'))\n",
    "print(format(math.pi, '^9.5f'))\n",
    "print(format(math.pi, '>9.5f'))\n",
    "print(format(math.pi, '12.5e'))"
   ]
  },
  {
   "cell_type": "code",
   "execution_count": 15,
   "metadata": {},
   "outputs": [
    {
     "name": "stdout",
     "output_type": "stream",
     "text": [
      "3.14159  \n",
      " 3.14159 \n",
      "  3.14159\n",
      " 3.14159e+00\n"
     ]
    }
   ],
   "source": [
    "# however this doesn't have any advantage compared with the str.format() method \n",
    "print('{:<9.5f}'.format(math.pi))\n",
    "print('{:^9.5f}'.format(math.pi))\n",
    "print('{:>9.5f}'.format(math.pi))\n",
    "print('{:12.5e}'.format(math.pi))"
   ]
  },
  {
   "cell_type": "code",
   "execution_count": 16,
   "metadata": {},
   "outputs": [
    {
     "data": {
      "text/plain": [
       "'2001-02-03 04:05'"
      ]
     },
     "execution_count": 16,
     "metadata": {},
     "output_type": "execute_result"
    }
   ],
   "source": [
    "# datetime\n",
    "from datetime import datetime\n",
    "'{:%Y-%m-%d %H:%M}'.format(datetime(2001, 2, 3, 4, 5))"
   ]
  },
  {
   "cell_type": "markdown",
   "metadata": {},
   "source": [
    "## f'' string method"
   ]
  },
  {
   "cell_type": "code",
   "execution_count": 17,
   "metadata": {},
   "outputs": [
    {
     "name": "stdout",
     "output_type": "stream",
     "text": [
      "Some virus are good some virus are bad.\n"
     ]
    }
   ],
   "source": [
    "val = 'virus'\n",
    "print(f\"Some {val} are good some {val} are bad.\") "
   ]
  },
  {
   "cell_type": "code",
   "execution_count": 18,
   "metadata": {},
   "outputs": [
    {
     "name": "stdout",
     "output_type": "stream",
     "text": [
      "Peter is 23 years old\n",
      "Peter is 23 years old\n",
      "Peter is 23 years old\n"
     ]
    }
   ],
   "source": [
    "name = 'Peter'\n",
    "age = 23\n",
    "\n",
    "print('%s is %d years old' % (name, age))\n",
    "print('{} is {} years old'.format(name, age))\n",
    "print(f'{name} is {age} years old')"
   ]
  },
  {
   "cell_type": "code",
   "execution_count": 19,
   "metadata": {},
   "outputs": [
    {
     "name": "stdout",
     "output_type": "stream",
     "text": [
      "John Doe is a gardener\n"
     ]
    }
   ],
   "source": [
    "# when you need to use dictionary\n",
    "user = {'name': 'John Doe', 'occupation': 'gardener'}\n",
    "print(f\"{user['name']} is a {user['occupation']}\")"
   ]
  },
  {
   "cell_type": "code",
   "execution_count": 20,
   "metadata": {},
   "outputs": [
    {
     "name": "stdout",
     "output_type": "stream",
     "text": [
      "February 12, 2020\n",
      "2020-02-12 17:28\n"
     ]
    }
   ],
   "source": [
    "import datetime \n",
    "now = datetime.datetime.now() \n",
    "print(f\"{now:%B %d, %Y}\") \n",
    "print(f'{now:%Y-%m-%d %H:%M}')"
   ]
  },
  {
   "cell_type": "code",
   "execution_count": 21,
   "metadata": {},
   "outputs": [
    {
     "name": "stdout",
     "output_type": "stream",
     "text": [
      "Max of 3 and 4 is 4\n"
     ]
    }
   ],
   "source": [
    "# you call put any expression in it\n",
    "def mymax(x, y):\n",
    "    return x if x > y else y\n",
    "\n",
    "a = 3\n",
    "b = 4\n",
    "\n",
    "print(f'Max of {a} and {b} is {mymax(a, b)}')"
   ]
  },
  {
   "cell_type": "code",
   "execution_count": 22,
   "metadata": {},
   "outputs": [
    {
     "name": "stdout",
     "output_type": "stream",
     "text": [
      "Hello, Donald Trump. You are 73. You are a President. You are a member of U.S. Goverment.\n"
     ]
    }
   ],
   "source": [
    "# when the f-string is better than str.format()\n",
    "first_name = 'Donald'\n",
    "last_name = 'Trump'\n",
    "age = 73\n",
    "profession = 'President'\n",
    "affiliation = 'U.S. Goverment'\n",
    "\n",
    "\n",
    "# using str.format()\n",
    "print((\"Hello, {first_name} {last_name}. You are {age}. \" + \n",
    "       \"You are a {profession}. You are a member of {affiliation}.\") \\\n",
    "        .format(first_name=first_name, last_name=last_name, age=age, \\\n",
    "                profession=profession, affiliation=affiliation))"
   ]
  },
  {
   "cell_type": "code",
   "execution_count": 23,
   "metadata": {},
   "outputs": [
    {
     "name": "stdout",
     "output_type": "stream",
     "text": [
      "Hello, Donald Trump. You are 73. You are a President. You are a member of U.S. Goverment.\n"
     ]
    }
   ],
   "source": [
    "# using f-string\n",
    "print(f\"Hello, {first_name} {last_name}. You are {age}. You are a {profession}. You are a member of {affiliation}.\")"
   ]
  },
  {
   "cell_type": "code",
   "execution_count": 24,
   "metadata": {},
   "outputs": [
    {
     "name": "stdout",
     "output_type": "stream",
     "text": [
      "1.64 µs ± 69.8 ns per loop (mean ± std. dev. of 7 runs, 1000000 loops each)\n",
      "402 ns ± 65.8 ns per loop (mean ± std. dev. of 7 runs, 1000000 loops each)\n"
     ]
    }
   ],
   "source": [
    "# let's compare their speed\n",
    "%timeit \"Hello, {first_name} {last_name}. You are {age}. You are a {profession}. You are a member of {affiliation}.\".format(first_name=first_name, last_name=last_name, age=age, profession=profession, affiliation=affiliation)\n",
    "%timeit f\"Hello, {first_name} {last_name}. You are {age}. You are a {profession}. You are a member of {affiliation}.\""
   ]
  },
  {
   "cell_type": "markdown",
   "metadata": {},
   "source": [
    "# Read a file"
   ]
  },
  {
   "cell_type": "code",
   "execution_count": 25,
   "metadata": {},
   "outputs": [
    {
     "name": "stdout",
     "output_type": "stream",
     "text": [
      ",Value,state_name,statisticcat_desc,state_alpha,source_desc,domain_desc,year\n",
      "\n",
      "0,48205,ALABAMA,AREA HARVESTED,AL,CENSUS,IRRIGATION STATUS,2013\n",
      "\n",
      "1,11215,ARKANSAS,AREA HARVESTED,AR,CENSUS,IRRIGATION STATUS,2013\n",
      "\n",
      "2,115785,COLORADO,AREA HARVESTED,CO,CENSUS,IRRIGATION STATUS,2013\n",
      "\n",
      "3,942,CONNECTICUT,AREA HARVESTED,CT,CENSUS,IRRIGATION STATUS,2013\n",
      "\n"
     ]
    }
   ],
   "source": [
    "# to open and read a text file\n",
    "f = open('dryland_corn_acres_state.csv') # default is read a file when it is being opened\n",
    "\n",
    "# method 1, for loop to read lines\n",
    "i = 0\n",
    "for line in f:\n",
    "    i += 1\n",
    "    print(line)\n",
    "    if i == 5:\n",
    "        break"
   ]
  },
  {
   "cell_type": "code",
   "execution_count": 26,
   "metadata": {},
   "outputs": [],
   "source": [
    "# the print isn't nice. I decide to write a function to print it nicer\n",
    "def print_line(line):\n",
    "    items = line.split(',')\n",
    "    print(('{:^11.10}'*len(items)).format(*items))\n",
    "    "
   ]
  },
  {
   "cell_type": "code",
   "execution_count": 27,
   "metadata": {},
   "outputs": [
    {
     "name": "stdout",
     "output_type": "stream",
     "text": [
      "              Value   state_name statisticc state_alph source_des domain_des    year\n",
      "   \n",
      "     0        48205     ALABAMA  AREA HARVE     AL       CENSUS   IRRIGATION    2013\n",
      "   \n",
      "     1        11215    ARKANSAS  AREA HARVE     AR       CENSUS   IRRIGATION    2013\n",
      "   \n",
      "     2       115785    COLORADO  AREA HARVE     CO       CENSUS   IRRIGATION    2013\n",
      "   \n",
      "     3         942    CONNECTICU AREA HARVE     CT       CENSUS   IRRIGATION    2013\n",
      "   \n"
     ]
    }
   ],
   "source": [
    "# to open and read a text file\n",
    "f = open('dryland_corn_acres_state.csv') # default is read a file when it is being opened\n",
    "\n",
    "# method 1, for loop to read lines\n",
    "i = 0\n",
    "for line in f:\n",
    "    i += 1\n",
    "    print_line(line)\n",
    "    if i == 5:\n",
    "        break"
   ]
  },
  {
   "cell_type": "code",
   "execution_count": 28,
   "metadata": {},
   "outputs": [
    {
     "name": "stdout",
     "output_type": "stream",
     "text": [
      "     4        53257    DELAWARE  AREA HARVE     DE       CENSUS   IRRIGATION    2013\n",
      "   \n",
      "     5        10054     FLORIDA  AREA HARVE     FL       CENSUS   IRRIGATION    2013\n",
      "   \n",
      "     6        33357     GEORGIA  AREA HARVE     GA       CENSUS   IRRIGATION    2013\n",
      "   \n",
      "     7       531844    ILLINOIS  AREA HARVE     IL       CENSUS   IRRIGATION    2013\n",
      "   \n",
      "     8       549086     INDIANA  AREA HARVE     IN       CENSUS   IRRIGATION    2013\n",
      "   \n"
     ]
    }
   ],
   "source": [
    "# method 2, for loop with range\n",
    "for i in range(5):\n",
    "    line = f.readline()\n",
    "    print_line(line)"
   ]
  },
  {
   "cell_type": "code",
   "execution_count": 29,
   "metadata": {},
   "outputs": [
    {
     "name": "stdout",
     "output_type": "stream",
     "text": [
      "Number of lines is 417\n",
      "     9       227804      IOWA    AREA HARVE     IA       CENSUS   IRRIGATION    2013\n",
      "   \n",
      "    10       775512     KANSAS   AREA HARVE     KS       CENSUS   IRRIGATION    2013\n",
      "   \n",
      "    11       112180    KENTUCKY  AREA HARVE     KY       CENSUS   IRRIGATION    2013\n",
      "   \n",
      "    12        82984    LOUISIANA AREA HARVE     LA       CENSUS   IRRIGATION    2013\n",
      "   \n",
      "    13                   MAINE   AREA HARVE     ME       CENSUS   IRRIGATION    2013\n",
      "   \n"
     ]
    }
   ],
   "source": [
    "# method 3, read all the lines\n",
    "lines = f.readlines()\n",
    "\n",
    "print(f'Number of lines is {len(lines)}')\n",
    "\n",
    "for line in lines[:5]:\n",
    "    print_line(line)\n"
   ]
  },
  {
   "cell_type": "code",
   "execution_count": 30,
   "metadata": {},
   "outputs": [],
   "source": [
    "# close the file after your operations\n",
    "f.close()"
   ]
  },
  {
   "cell_type": "code",
   "execution_count": 31,
   "metadata": {},
   "outputs": [
    {
     "name": "stdout",
     "output_type": "stream",
     "text": [
      ",Value,state_name,statisticcat_desc,state_alpha,source_desc,domain_desc,year\n",
      "\n",
      "0,48205,ALABAMA,AREA HARVESTED,AL,CENSUS,IRRIGATION STATUS,2013\n",
      "\n",
      "1,11215,ARKANSAS,AREA HARVESTED,AR,CENSUS,IRRIGATION STATUS,2013\n",
      "\n",
      "2,115785,COLORADO,AREA HARVESTED,CO,CENSUS,IRRIGATION STATUS,2013\n",
      "\n",
      "3,942,CONNECTICUT,AREA HARVESTED,CT,CENSUS,IRRIGATION STATUS,2013\n",
      "\n"
     ]
    }
   ],
   "source": [
    "# it is easy to forget to close files that have been opened.\n",
    "with open('dryland_corn_acres_state.csv') as f:\n",
    "    for i in range(5):\n",
    "        line = f.readline()\n",
    "        print(line)"
   ]
  },
  {
   "cell_type": "code",
   "execution_count": 32,
   "metadata": {},
   "outputs": [
    {
     "ename": "ValueError",
     "evalue": "I/O operation on closed file.",
     "output_type": "error",
     "traceback": [
      "\u001b[1;31m---------------------------------------------------------------------------\u001b[0m",
      "\u001b[1;31mValueError\u001b[0m                                Traceback (most recent call last)",
      "\u001b[1;32m<ipython-input-32-571e9fb02258>\u001b[0m in \u001b[0;36m<module>\u001b[1;34m\u001b[0m\n\u001b[1;32m----> 1\u001b[1;33m \u001b[0mf\u001b[0m\u001b[1;33m.\u001b[0m\u001b[0mread\u001b[0m\u001b[1;33m(\u001b[0m\u001b[1;33m)\u001b[0m\u001b[1;33m\u001b[0m\u001b[1;33m\u001b[0m\u001b[0m\n\u001b[0m",
      "\u001b[1;31mValueError\u001b[0m: I/O operation on closed file."
     ]
    }
   ],
   "source": [
    "f.read()"
   ]
  },
  {
   "cell_type": "code",
   "execution_count": 33,
   "metadata": {},
   "outputs": [
    {
     "name": "stdout",
     "output_type": "stream",
     "text": [
      "NEBRASKA grew 3997000 acres of dryland Corn in 2018.\n",
      "NEBRASKA grew 4022000 acres of dryland Corn in 2017.\n",
      "NEBRASKA grew 3973000 acres of dryland Corn in 2016.\n",
      "NEBRASKA grew 3783000 acres of dryland Corn in 2015.\n",
      "NEBRASKA grew 3697000 acres of dryland Corn in 2014.\n",
      "NEBRASKA grew 3835000 acres of dryland Corn in 2013.\n",
      "NEBRASKA grew 3325000 acres of dryland Corn in 2012.\n",
      "NEBRASKA grew 4000000 acres of dryland Corn in 2011.\n",
      "NEBRASKA grew 3610000 acres of dryland Corn in 2010.\n",
      "NEBRASKA grew 3560000 acres of dryland Corn in 2009.\n",
      "NEBRASKA grew 3335000 acres of dryland Corn in 2008.\n",
      "NEBRASKA grew 3468000 acres of dryland Corn in 2007.\n",
      "NEBRASKA grew 3035000 acres of dryland Corn in 2006.\n",
      "NEBRASKA grew 3325000 acres of dryland Corn in 2005.\n",
      "NEBRASKA grew 3065000 acres of dryland Corn in 2004.\n",
      "NEBRASKA grew 2935000 acres of dryland Corn in 2003.\n",
      "NEBRASKA grew 2695000 acres of dryland Corn in 2002.\n",
      "NEBRASKA grew 3200000 acres of dryland Corn in 2001.\n",
      "NEBRASKA grew 3250000 acres of dryland Corn in 2000.\n",
      "NEBRASKA grew 3500000 acres of dryland Corn in 1999.\n",
      "NEBRASKA grew 3300000 acres of dryland Corn in 1998.\n",
      "NEBRASKA grew 3200000 acres of dryland Corn in 1997.\n",
      "NEBRASKA grew 2675000 acres of dryland Corn in 1996.\n",
      "NEBRASKA grew 2575000 acres of dryland Corn in 1995.\n",
      "NEBRASKA grew 2835000 acres of dryland Corn in 1994.\n",
      "NEBRASKA grew 2500000 acres of dryland Corn in 1993.\n",
      "NEBRASKA grew 2550000 acres of dryland Corn in 1992.\n",
      "NEBRASKA grew 2500000 acres of dryland Corn in 1991.\n",
      "NEBRASKA grew 2250000 acres of dryland Corn in 1990.\n",
      "NEBRASKA grew 2000000 acres of dryland Corn in 1989.\n",
      "NEBRASKA grew 2000000 acres of dryland Corn in 1988.\n",
      "NEBRASKA grew 1900000 acres of dryland Corn in 1987.\n",
      "NEBRASKA grew 2200000 acres of dryland Corn in 1986.\n",
      "NEBRASKA grew 2400000 acres of dryland Corn in 1985.\n",
      "NEBRASKA grew 2250000 acres of dryland Corn in 1984.\n",
      "NEBRASKA grew 1600000 acres of dryland Corn in 1983.\n",
      "NEBRASKA grew 2300000 acres of dryland Corn in 1982.\n",
      "NEBRASKA grew 1930000 acres of dryland Corn in 1981.\n",
      "NEBRASKA grew 2150000 acres of dryland Corn in 1980.\n",
      "NEBRASKA grew 2300000 acres of dryland Corn in 1979.\n",
      "NEBRASKA grew 2150000 acres of dryland Corn in 1978.\n",
      "NEBRASKA grew 2150000 acres of dryland Corn in 1977.\n",
      "NEBRASKA grew 2300000 acres of dryland Corn in 1976.\n",
      "NEBRASKA grew 2520000 acres of dryland Corn in 1975.\n",
      "NEBRASKA grew 2600000 acres of dryland Corn in 1974.\n",
      "NEBRASKA grew 3100000 acres of dryland Corn in 1973.\n",
      "NEBRASKA grew 2665000 acres of dryland Corn in 1972.\n",
      "NEBRASKA grew 2774000 acres of dryland Corn in 1971.\n",
      "NEBRASKA grew 2597000 acres of dryland Corn in 1970.\n",
      "NEBRASKA grew 2588000 acres of dryland Corn in 1969.\n",
      "NEBRASKA grew 2274000 acres of dryland Corn in 1968.\n",
      "NEBRASKA grew 2670000 acres of dryland Corn in 1967.\n",
      "NEBRASKA grew 2563000 acres of dryland Corn in 1966.\n",
      "NEBRASKA grew 2323000 acres of dryland Corn in 1965.\n",
      "NEBRASKA grew 2573000 acres of dryland Corn in 1964.\n",
      "NEBRASKA grew 3653000 acres of dryland Corn in 1963.\n",
      "NEBRASKA grew 3834000 acres of dryland Corn in 1962.\n",
      "NEBRASKA grew 3903000 acres of dryland Corn in 1961.\n",
      "NEBRASKA grew 4969000 acres of dryland Corn in 1960.\n",
      "NEBRASKA grew 5068000 acres of dryland Corn in 1959.\n",
      "NEBRASKA grew 4329000 acres of dryland Corn in 1958.\n",
      "NEBRASKA grew 3645000 acres of dryland Corn in 1957.\n",
      "NEBRASKA grew 4365000 acres of dryland Corn in 1956.\n",
      "NEBRASKA grew 5145340 acres of dryland Corn in 1955.\n",
      "NEBRASKA grew 6207000 acres of dryland Corn in 1954.\n",
      "NEBRASKA grew 6601010 acres of dryland Corn in 1953.\n",
      "NEBRASKA grew 6433940 acres of dryland Corn in 1952.\n",
      "NEBRASKA grew 6557780 acres of dryland Corn in 1951.\n",
      "NEBRASKA grew 6436660 acres of dryland Corn in 1950.\n",
      "NEBRASKA grew 7027220 acres of dryland Corn in 1949.\n",
      "NEBRASKA grew 6741110 acres of dryland Corn in 1948.\n",
      "NEBRASKA grew 6963520 acres of dryland Corn in 1947.\n"
     ]
    }
   ],
   "source": [
    "# search Nebraska's dryland corn acres\n",
    "with open('dryland_corn_acres_state.csv') as f:\n",
    "    for line in f:\n",
    "        if line.startswith(','):\n",
    "            # this is the first line\n",
    "            headers = line.rstrip().split(',')\n",
    "            istate_name = headers.index('state_name')\n",
    "            ivalue = headers.index('Value')\n",
    "            iyear = headers.index('year')\n",
    "        elif 'NEBRASKA' in line and 'SURVEY' in line:\n",
    "            line_data = line.rstrip().split(',')\n",
    "            print(f'{line_data[istate_name]} grew {line_data[ivalue]} acres of dryland Corn in {line_data[iyear]}.')"
   ]
  },
  {
   "cell_type": "markdown",
   "metadata": {},
   "source": [
    "# Write a file"
   ]
  },
  {
   "cell_type": "code",
   "execution_count": 34,
   "metadata": {},
   "outputs": [
    {
     "name": "stdout",
     "output_type": "stream",
     "text": [
      "['2013', '2018', '2017', '2016', '2015'] ['1442994', '3997000', '4022000', '3973000', '3783000']\n"
     ]
    }
   ],
   "source": [
    "# search Nebraska's dryland corn acres\n",
    "years = []\n",
    "acres = []\n",
    "with open('dryland_corn_acres_state.csv') as f:\n",
    "    for line in f:\n",
    "        if line.startswith(','):\n",
    "            # this is the first line\n",
    "            headers = line.rstrip().split(',')\n",
    "            istate_name = headers.index('state_name')\n",
    "            ivalue = headers.index('Value')\n",
    "            iyear = headers.index('year')\n",
    "        elif 'NEBRASKA' in line:\n",
    "            line_data = line.rstrip().split(',')\n",
    "            acres.append(line_data[ivalue])\n",
    "            years.append(line_data[iyear])\n",
    "            \n",
    "print(years[:5], acres[:5])"
   ]
  },
  {
   "cell_type": "code",
   "execution_count": 35,
   "metadata": {},
   "outputs": [
    {
     "ename": "OSError",
     "evalue": "[Errno 22] Invalid argument",
     "output_type": "error",
     "traceback": [
      "\u001b[1;31m---------------------------------------------------------------------------\u001b[0m",
      "\u001b[1;31mOSError\u001b[0m                                   Traceback (most recent call last)",
      "\u001b[1;32m<ipython-input-35-9ef520b2da8e>\u001b[0m in \u001b[0;36m<module>\u001b[1;34m\u001b[0m\n\u001b[0;32m      2\u001b[0m     \u001b[0mf\u001b[0m\u001b[1;33m.\u001b[0m\u001b[0mwrite\u001b[0m\u001b[1;33m(\u001b[0m\u001b[1;34m'year, acres\\n'\u001b[0m\u001b[1;33m)\u001b[0m\u001b[1;33m\u001b[0m\u001b[1;33m\u001b[0m\u001b[0m\n\u001b[0;32m      3\u001b[0m     \u001b[1;32mfor\u001b[0m \u001b[0mi\u001b[0m \u001b[1;32min\u001b[0m \u001b[0mrange\u001b[0m\u001b[1;33m(\u001b[0m\u001b[0mlen\u001b[0m\u001b[1;33m(\u001b[0m\u001b[0myears\u001b[0m\u001b[1;33m)\u001b[0m\u001b[1;33m)\u001b[0m\u001b[1;33m:\u001b[0m\u001b[1;33m\u001b[0m\u001b[1;33m\u001b[0m\u001b[0m\n\u001b[1;32m----> 4\u001b[1;33m         \u001b[0mf\u001b[0m\u001b[1;33m.\u001b[0m\u001b[0mwrite\u001b[0m\u001b[1;33m(\u001b[0m\u001b[1;34mf'{years[i]},{acres[i]}\\n'\u001b[0m\u001b[1;33m)\u001b[0m\u001b[1;33m\u001b[0m\u001b[1;33m\u001b[0m\u001b[0m\n\u001b[0m",
      "\u001b[1;31mOSError\u001b[0m: [Errno 22] Invalid argument"
     ]
    }
   ],
   "source": [
    "with open('nebraska_corn_acres.csv', 'w') as f:\n",
    "    f.write('year, acres\\n')\n",
    "    for i in range(len(years)):\n",
    "        f.write(f'{years[i]},{acres[i]}\\n')"
   ]
  },
  {
   "cell_type": "code",
   "execution_count": 36,
   "metadata": {},
   "outputs": [
    {
     "name": "stdout",
     "output_type": "stream",
     "text": [
      "year, acres\n",
      "2013,1442994\n",
      "2018,3997000\n",
      "2017,4022000\n",
      "2016,3973000\n",
      "2015,3783000\n",
      "2014,3697000\n",
      "2013,3835000\n",
      "2012,3325000\n",
      "2011,4000000\n"
     ]
    }
   ],
   "source": [
    "# writing a file when opening another file\n",
    "with open('dryland_corn_acres_state.csv') as fr:\n",
    "    with open('nebraska_corn_acres.csv', 'w') as fw:\n",
    "        fw.write('year, acres\\n') # first line\n",
    "        for line in fr:\n",
    "            if line.startswith(','):\n",
    "                # this is the first line\n",
    "                headers = line.rstrip().split(',')\n",
    "                istate_name = headers.index('state_name')\n",
    "                ivalue = headers.index('Value')\n",
    "                iyear = headers.index('year')\n",
    "            elif 'NEBRASKA' in line:\n",
    "                line_data = line.rstrip().split(',')\n",
    "                fw.write(f'{line_data[iyear]},{line_data[ivalue]}\\n')\n",
    "            \n",
    "\n",
    "! head -10 nebraska_corn_acres.csv"
   ]
  },
  {
   "cell_type": "code",
   "execution_count": 37,
   "metadata": {},
   "outputs": [],
   "source": [
    "# write the data into binary file for each state\n",
    "import struct\n",
    "states = {}\n",
    "with open('dryland_corn_acres_state.csv') as fr:\n",
    "    for line in fr:\n",
    "        if line.startswith(','):\n",
    "            # this is the first line\n",
    "            headers = line.rstrip().split(',')\n",
    "            istate_name = headers.index('state_name')\n",
    "            ivalue = headers.index('Value')\n",
    "            iyear = headers.index('year')\n",
    "        elif 'SURVEY' in line:\n",
    "            line_data = line.rstrip().split(',')\n",
    "            s = line_data[istate_name]\n",
    "            if s not in states:\n",
    "                states[s] = open(f'{line_data[istate_name].strip()}.bin', 'wb')\n",
    "            states[s].write(struct.pack('Hf', int(line_data[iyear]), float(line_data[ivalue])))\n",
    "\n",
    "\n",
    "# close files\n",
    "for s in states:\n",
    "    states[s].close()\n",
    "                  \n",
    "    "
   ]
  },
  {
   "cell_type": "code",
   "execution_count": 38,
   "metadata": {},
   "outputs": [
    {
     "name": "stdout",
     "output_type": "stream",
     "text": [
      "COLORADO (2018, 615000.0)\n",
      "COLORADO (2017, 634000.0)\n",
      "COLORADO (2016, 500000.0)\n",
      "DELAWARE (2018, 88000.0)\n",
      "DELAWARE (2017, 91000.0)\n",
      "DELAWARE (2016, 89000.0)\n",
      "KANSAS (2018, 3573000.0)\n",
      "KANSAS (2017, 3778000.0)\n",
      "KANSAS (2016, 3370000.0)\n",
      "MONTANA (1967, 900.0)\n",
      "MONTANA (1966, 700.0)\n",
      "MONTANA (1965, 200.0)\n",
      "NEBRASKA (2018, 3997000.0)\n",
      "NEBRASKA (2017, 4022000.0)\n",
      "NEBRASKA (2016, 3973000.0)\n",
      "NEW MEXICO (1995, 600.0)\n",
      "NEW MEXICO (1994, 2200.0)\n",
      "NEW MEXICO (1993, 1650.0)\n",
      "NORTH DAKOTA (2009, 1750000.0)\n",
      "NORTH DAKOTA (2008, 2199000.0)\n",
      "NORTH DAKOTA (2007, 2243100.0)\n",
      "OKLAHOMA (2009, 330000.0)\n",
      "OKLAHOMA (2008, 170000.0)\n",
      "OKLAHOMA (2007, 130000.0)\n",
      "SOUTH DAKOTA (2009, 4476000.0)\n",
      "SOUTH DAKOTA (2008, 4198000.0)\n",
      "SOUTH DAKOTA (2007, 4279000.0)\n",
      "TEXAS (2018, 1000000.0)\n",
      "TEXAS (2017, 1285000.0)\n",
      "TEXAS (2016, 1350000.0)\n",
      "WYOMING (2008, 5000.0)\n",
      "WYOMING (2007, 2500.0)\n",
      "WYOMING (2006, 2500.0)\n"
     ]
    }
   ],
   "source": [
    "for s in states:\n",
    "    with open(f'{s.strip()}.bin', 'rb') as f:\n",
    "        for i in range(3):\n",
    "            dat = f.read(struct.calcsize('Hf'))\n",
    "            print(s, struct.unpack('Hf', dat))"
   ]
  },
  {
   "cell_type": "code",
   "execution_count": null,
   "metadata": {},
   "outputs": [],
   "source": []
  }
 ],
 "metadata": {
  "kernelspec": {
   "display_name": "Python 3",
   "language": "python",
   "name": "python3"
  }
 },
 "nbformat": 4,
 "nbformat_minor": 4
}
