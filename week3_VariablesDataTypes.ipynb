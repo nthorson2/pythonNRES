{
 "cells": [
  {
   "cell_type": "markdown",
   "metadata": {},
   "source": [
    "# Variables"
   ]
  },
  {
   "cell_type": "markdown",
   "metadata": {},
   "source": [
    "## Variable names"
   ]
  },
  {
   "cell_type": "code",
   "execution_count": null,
   "metadata": {},
   "outputs": [],
   "source": [
    "# assign value to a variable\n",
    "class_room_number = 141"
   ]
  },
  {
   "cell_type": "code",
   "execution_count": null,
   "metadata": {},
   "outputs": [],
   "source": [
    "# This does NOT work\n",
    "141 = class_room_number"
   ]
  },
  {
   "cell_type": "code",
   "execution_count": 1,
   "metadata": {},
   "outputs": [
    {
     "name": "stdout",
     "output_type": "stream",
     "text": [
      "My class room number is:  141\n",
      "Your class room number is:  141\n"
     ]
    }
   ],
   "source": [
    "# This will work\n",
    "my_class_room_number = your_class_room_number = 141\n",
    "print('My class room number is: ', my_class_room_number)\n",
    "print('Your class room number is: ', your_class_room_number)"
   ]
  },
  {
   "cell_type": "code",
   "execution_count": 2,
   "metadata": {},
   "outputs": [
    {
     "name": "stdout",
     "output_type": "stream",
     "text": [
      "My class room number is:  141\n",
      "Your class room number is:  142\n"
     ]
    }
   ],
   "source": [
    "# This will work too.\n",
    "my_class_room_number, your_class_room_number = 141, 142\n",
    "print('My class room number is: ', my_class_room_number)\n",
    "print('Your class room number is: ', your_class_room_number)"
   ]
  },
  {
   "cell_type": "code",
   "execution_count": 3,
   "metadata": {},
   "outputs": [
    {
     "ename": "SyntaxError",
     "evalue": "invalid syntax (<ipython-input-3-b71c8a07c0e2>, line 2)",
     "output_type": "error",
     "traceback": [
      "\u001b[1;36m  File \u001b[1;32m\"<ipython-input-3-b71c8a07c0e2>\"\u001b[1;36m, line \u001b[1;32m2\u001b[0m\n\u001b[1;33m    is = 1\u001b[0m\n\u001b[1;37m     ^\u001b[0m\n\u001b[1;31mSyntaxError\u001b[0m\u001b[1;31m:\u001b[0m invalid syntax\n"
     ]
    }
   ],
   "source": [
    "# using keywords for variable names is prohibited.\n",
    "is = 1"
   ]
  },
  {
   "cell_type": "code",
   "execution_count": 4,
   "metadata": {},
   "outputs": [
    {
     "name": "stdout",
     "output_type": "stream",
     "text": [
      "1\n",
      "2\n"
     ]
    }
   ],
   "source": [
    "# case sensitive\n",
    "abc = 1\n",
    "ABC = 2\n",
    "print(abc)\n",
    "print(ABC)"
   ]
  },
  {
   "cell_type": "code",
   "execution_count": null,
   "metadata": {},
   "outputs": [],
   "source": [
    "### Good variable names\n",
    "GRAVITATIONAL_ACCELERATION = 9.81\n",
    "MONTHS_IN_A_YEAR = 12\n",
    "\n",
    "initial_wind_speed = 5 # m/s\n",
    "initialWindSpeed = 5\n",
    "InitialWindSpeed = 5\n",
    "\n",
    "### bad variable names\n",
    "iws = 5\n",
    "v = 5\n",
    "nsdifhdashjdsljkfn = 5"
   ]
  },
  {
   "cell_type": "markdown",
   "metadata": {},
   "source": [
    "## Variable scopes"
   ]
  },
  {
   "cell_type": "code",
   "execution_count": 14,
   "metadata": {},
   "outputs": [
    {
     "name": "stdout",
     "output_type": "stream",
     "text": [
      "my_function 7\n",
      "my_function 0\n"
     ]
    }
   ],
   "source": [
    "# This is a global variable\n",
    "a = 0\n",
    "\n",
    "if a == 0:\n",
    "    # This is still a global variable\n",
    "    b = 1\n",
    "\n",
    "def my_function(c):\n",
    "    # this is a local variable\n",
    "    d = 3\n",
    "    print('my_function', c)\n",
    "    print('my_function', a)\n",
    "\n",
    "# Now we call the function, passing the value 7 as the first and only parameter\n",
    "my_function(7)\n",
    "\n"
   ]
  },
  {
   "cell_type": "code",
   "execution_count": 15,
   "metadata": {},
   "outputs": [
    {
     "name": "stdout",
     "output_type": "stream",
     "text": [
      "global 0\n"
     ]
    }
   ],
   "source": [
    "# The global variables can be used in other cells too.\n",
    "print('global', a)"
   ]
  },
  {
   "cell_type": "code",
   "execution_count": 16,
   "metadata": {},
   "outputs": [
    {
     "name": "stdout",
     "output_type": "stream",
     "text": [
      "0\n",
      "1\n",
      "2\n",
      "what is i: 2\n"
     ]
    }
   ],
   "source": [
    "# for-loop variable leaking\n",
    "for i in range(3):\n",
    "    print(i)\n",
    "    \n",
    "print('what is i:', i)"
   ]
  },
  {
   "cell_type": "markdown",
   "metadata": {},
   "source": [
    "# Data types"
   ]
  },
  {
   "cell_type": "code",
   "execution_count": 17,
   "metadata": {},
   "outputs": [
    {
     "name": "stdout",
     "output_type": "stream",
     "text": [
      "The type of 1e10 is  <class 'float'>\n",
      "The type of 100 is  <class 'int'>\n",
      "The type of True is  <class 'bool'>\n",
      "The type of \"U\" is  <class 'str'>\n"
     ]
    }
   ],
   "source": [
    "print('The type of 1e10 is ', type(1e10))\n",
    "\n",
    "print('The type of 100 is ', type(100))\n",
    "\n",
    "print('The type of True is ', type(True))\n",
    "\n",
    "print('The type of \"U\" is ', type(\"U\"))"
   ]
  },
  {
   "cell_type": "markdown",
   "metadata": {},
   "source": [
    "### Explicit conversion"
   ]
  },
  {
   "cell_type": "code",
   "execution_count": 18,
   "metadata": {},
   "outputs": [
    {
     "name": "stdout",
     "output_type": "stream",
     "text": [
      "int()  : 1000000000 3 3 2 1\n",
      "float(): 100.0 2.0 2.3 1.0\n",
      "str()  : 100 2.3 True\n",
      "bool() : True True False False True True\n"
     ]
    }
   ],
   "source": [
    "print('int()  :', int(1e9), int(3.14), int(3.5), int('2'), int(True)) # int('2.3') will not work\n",
    "\n",
    "print('float():', float(100), float(\"2\"), float(\"2.3\"), float(True))\n",
    "\n",
    "print('str()  :', str(100), str(2.300), str(True))\n",
    "\n",
    "print('bool() :', bool(100), bool(\"2.3\"), bool(0.0), bool(0), bool(\"0\"), bool(\"False\")) # only int and float 0 is converted to False"
   ]
  },
  {
   "cell_type": "markdown",
   "metadata": {},
   "source": [
    "### Implicit conversion"
   ]
  },
  {
   "cell_type": "code",
   "execution_count": 19,
   "metadata": {},
   "outputs": [
    {
     "name": "stdout",
     "output_type": "stream",
     "text": [
      "8.5 * 2 =  17.0\n",
      "1 + 0.1 =  1.1\n"
     ]
    },
    {
     "ename": "TypeError",
     "evalue": "unsupported operand type(s) for +: 'int' and 'str'",
     "output_type": "error",
     "traceback": [
      "\u001b[1;31m---------------------------------------------------------------------------\u001b[0m",
      "\u001b[1;31mTypeError\u001b[0m                                 Traceback (most recent call last)",
      "\u001b[1;32m<ipython-input-19-dfc8b31e5556>\u001b[0m in \u001b[0;36m<module>\u001b[1;34m\u001b[0m\n\u001b[0;32m      3\u001b[0m \u001b[0mprint\u001b[0m\u001b[1;33m(\u001b[0m\u001b[1;34m'1 + 0.1 = '\u001b[0m\u001b[1;33m,\u001b[0m \u001b[1;36m1\u001b[0m \u001b[1;33m+\u001b[0m \u001b[1;36m0.1\u001b[0m\u001b[1;33m)\u001b[0m\u001b[1;33m\u001b[0m\u001b[1;33m\u001b[0m\u001b[0m\n\u001b[0;32m      4\u001b[0m \u001b[1;33m\u001b[0m\u001b[0m\n\u001b[1;32m----> 5\u001b[1;33m \u001b[0mprint\u001b[0m\u001b[1;33m(\u001b[0m\u001b[1;34m'1 + \"2\" = '\u001b[0m\u001b[1;33m,\u001b[0m \u001b[1;36m1\u001b[0m \u001b[1;33m+\u001b[0m \u001b[1;34m\"2\"\u001b[0m\u001b[1;33m)\u001b[0m\u001b[1;33m\u001b[0m\u001b[1;33m\u001b[0m\u001b[0m\n\u001b[0m",
      "\u001b[1;31mTypeError\u001b[0m: unsupported operand type(s) for +: 'int' and 'str'"
     ]
    }
   ],
   "source": [
    "print('8.5 * 2 = ', 8.5 * 2)\n",
    "\n",
    "print('1 + 0.1 = ', 1 + 0.1)\n",
    "\n",
    "print('1 + \"2\" = ', 1 + \"2\")"
   ]
  },
  {
   "cell_type": "markdown",
   "metadata": {},
   "source": [
    "### Assignment operators"
   ]
  },
  {
   "cell_type": "code",
   "execution_count": 21,
   "metadata": {},
   "outputs": [
    {
     "name": "stdout",
     "output_type": "stream",
     "text": [
      "2.0 4.0 100.0\n"
     ]
    }
   ],
   "source": [
    "a = 1; b = 2.0; c = 1e3\n",
    "a += 1.0 # a = a + 1\n",
    "b *= 2 # b = b * 2\n",
    "c /= 10 # c = c / 10\n",
    "\n",
    "print(a, b, c)"
   ]
  },
  {
   "cell_type": "markdown",
   "metadata": {},
   "source": [
    "## Derived data types"
   ]
  },
  {
   "cell_type": "markdown",
   "metadata": {},
   "source": [
    "### List"
   ]
  },
  {
   "cell_type": "code",
   "execution_count": 22,
   "metadata": {},
   "outputs": [
    {
     "name": "stdout",
     "output_type": "stream",
     "text": [
      "concatenatation: ['a', 'b', 'c', 1, 2, 3]\n"
     ]
    }
   ],
   "source": [
    "# creation of an empty list\n",
    "list1 = [] # or list1 = list()\n",
    "\n",
    "# concatenate two lists\n",
    "list1 = ['a', \"b\", \"c\"]\n",
    "list2 = [1, 2, 3]\n",
    "list3 = list1 + list2\n",
    "print('concatenatation:', list3)"
   ]
  },
  {
   "cell_type": "code",
   "execution_count": 23,
   "metadata": {},
   "outputs": [
    {
     "name": "stdout",
     "output_type": "stream",
     "text": [
      "repeatation: ['a', 'b', 'c', 'a', 'b', 'c', 'a', 'b', 'c']\n"
     ]
    }
   ],
   "source": [
    "# repeat a list\n",
    "list_n = list1 * 3\n",
    "print('repeatation:', list_n)"
   ]
  },
  {
   "cell_type": "code",
   "execution_count": 24,
   "metadata": {},
   "outputs": [
    {
     "name": "stdout",
     "output_type": "stream",
     "text": [
      "'a' in list1: True\n",
      "'a' not in list2: True\n"
     ]
    }
   ],
   "source": [
    "# check element in a list\n",
    "print(\"'a' in list1:\", 'a' in list1)\n",
    "print(\"'a' not in list2:\", 'a' not in list2)"
   ]
  },
  {
   "cell_type": "code",
   "execution_count": 25,
   "metadata": {},
   "outputs": [
    {
     "name": "stdout",
     "output_type": "stream",
     "text": [
      "length of list_n: 9\n",
      "length of list_of_list: 3\n"
     ]
    }
   ],
   "source": [
    "# check length of a list (how many elements are in a list)\n",
    "list_of_list = [[1,2,3], [4,5], 6]\n",
    "print('length of list_n:', len(list_n))\n",
    "print('length of list_of_list:', len(list_of_list))"
   ]
  },
  {
   "cell_type": "code",
   "execution_count": 26,
   "metadata": {},
   "outputs": [
    {
     "name": "stdout",
     "output_type": "stream",
     "text": [
      "after append: ['a', 'b', 'c', 1, 2, 3, 'd']\n"
     ]
    }
   ],
   "source": [
    "# add an element to the end of the list\n",
    "list3.append(\"d\")\n",
    "print('after append:', list3)"
   ]
  },
  {
   "cell_type": "code",
   "execution_count": 27,
   "metadata": {},
   "outputs": [
    {
     "name": "stdout",
     "output_type": "stream",
     "text": [
      "after insert: ['a', 'insert', 'b', 'c']\n"
     ]
    }
   ],
   "source": [
    "# add an element at a specific location\n",
    "list1.insert(1, 'insert')\n",
    "print('after insert:', list1)"
   ]
  },
  {
   "cell_type": "code",
   "execution_count": 28,
   "metadata": {},
   "outputs": [
    {
     "name": "stdout",
     "output_type": "stream",
     "text": [
      "pop: d\n",
      "after pop: ['a', 'b', 'c', 1, 2, 3]\n"
     ]
    }
   ],
   "source": [
    "# remove the last element\n",
    "list_pop = list3.pop()\n",
    "print('pop:', list_pop)\n",
    "print('after pop:', list3)"
   ]
  },
  {
   "cell_type": "code",
   "execution_count": 29,
   "metadata": {},
   "outputs": [
    {
     "name": "stdout",
     "output_type": "stream",
     "text": [
      "after del: ['a', 'c', 1, 2, 3]\n"
     ]
    }
   ],
   "source": [
    "# remove an element by its index\n",
    "del list3[1]\n",
    "print('after del:', list3)"
   ]
  },
  {
   "cell_type": "code",
   "execution_count": 30,
   "metadata": {},
   "outputs": [
    {
     "name": "stdout",
     "output_type": "stream",
     "text": [
      "after remove: ['a', 'c', 'a', 'b', 'c', 'a', 'b', 'c']\n"
     ]
    }
   ],
   "source": [
    "# this will also remove an element\n",
    "list_n.remove('b') # only remove the first instance\n",
    "print('after remove:', list_n)"
   ]
  },
  {
   "cell_type": "code",
   "execution_count": 31,
   "metadata": {},
   "outputs": [
    {
     "name": "stdout",
     "output_type": "stream",
     "text": [
      "the location of \"b\" in list_n is: 3\n"
     ]
    }
   ],
   "source": [
    "# to locate an element in the list\n",
    "print('the location of \"b\" in list_n is:', list_n.index('b'))"
   ]
  },
  {
   "cell_type": "code",
   "execution_count": 32,
   "metadata": {},
   "outputs": [
    {
     "name": "stdout",
     "output_type": "stream",
     "text": [
      "the reverse of list_n is: ['c', 'b', 'a', 'c', 'b', 'a', 'c', 'a']\n",
      "the sorted list_n is: ['a', 'a', 'a', 'b', 'b', 'c', 'c', 'c']\n"
     ]
    }
   ],
   "source": [
    "# to reverse a list\n",
    "list_n.reverse()\n",
    "print('the reverse of list_n is:', list_n)\n",
    "\n",
    "# to sort a list\n",
    "list_n.sort()\n",
    "print('the sorted list_n is:', list_n)"
   ]
  },
  {
   "cell_type": "markdown",
   "metadata": {},
   "source": [
    "### Tuple"
   ]
  },
  {
   "cell_type": "code",
   "execution_count": 33,
   "metadata": {},
   "outputs": [
    {
     "name": "stdout",
     "output_type": "stream",
     "text": [
      "concatenatation: ('a', 'b', 'c', 1, 2, 3)\n"
     ]
    }
   ],
   "source": [
    "# Tuples occupy less memory and therefore is faster than lists\n",
    "\n",
    "# tuples have for less methods\n",
    "tuple1 = ('a', 'b', 'c')\n",
    "tuple2 = (1, 2, 3)\n",
    "\n",
    "\n",
    "tuple3 = tuple1 + tuple2\n",
    "print('concatenatation:', tuple3)"
   ]
  },
  {
   "cell_type": "code",
   "execution_count": 34,
   "metadata": {},
   "outputs": [
    {
     "name": "stdout",
     "output_type": "stream",
     "text": [
      "repeatation: ('a', 'b', 'c', 'a', 'b', 'c', 'a', 'b', 'c')\n"
     ]
    }
   ],
   "source": [
    "# repeat a list\n",
    "tuple_n = tuple1 * 3\n",
    "print('repeatation:', tuple_n)"
   ]
  },
  {
   "cell_type": "code",
   "execution_count": 35,
   "metadata": {},
   "outputs": [
    {
     "name": "stdout",
     "output_type": "stream",
     "text": [
      "'a' in tuple1: True\n",
      "'a' not in tuple2: True\n"
     ]
    }
   ],
   "source": [
    "# check element in a list\n",
    "print(\"'a' in tuple1:\", 'a' in tuple1)\n",
    "print(\"'a' not in tuple2:\", 'a' not in tuple2)"
   ]
  },
  {
   "cell_type": "code",
   "execution_count": 36,
   "metadata": {},
   "outputs": [
    {
     "name": "stdout",
     "output_type": "stream",
     "text": [
      "length of tuple_n: 9\n",
      "length of tuple_of_tuple: 3\n"
     ]
    }
   ],
   "source": [
    "# check length of a list (how many elements are in a list)\n",
    "tuple_of_tuple = ((1,2,3), (4,5), 6)\n",
    "print('length of tuple_n:', len(tuple_n))\n",
    "print('length of tuple_of_tuple:', len(tuple_of_tuple))"
   ]
  },
  {
   "cell_type": "code",
   "execution_count": 37,
   "metadata": {},
   "outputs": [
    {
     "name": "stdout",
     "output_type": "stream",
     "text": [
      "the location of \"b\" in tuple_n is: 1\n"
     ]
    }
   ],
   "source": [
    "# to locate an element in the tuple\n",
    "print('the location of \"b\" in tuple_n is:', tuple_n.index('b'))"
   ]
  },
  {
   "cell_type": "code",
   "execution_count": 38,
   "metadata": {},
   "outputs": [
    {
     "name": "stdout",
     "output_type": "stream",
     "text": [
      "sizes of list and tuple are 192 120\n"
     ]
    }
   ],
   "source": [
    "# compare list and tuple\n",
    "from sys import getsizeof\n",
    "list_n = list(tuple_n)\n",
    "print('sizes of list and tuple are', getsizeof(list_n), getsizeof(tuple_n))"
   ]
  },
  {
   "cell_type": "code",
   "execution_count": 39,
   "metadata": {},
   "outputs": [
    {
     "name": "stdout",
     "output_type": "stream",
     "text": [
      "238 ns ± 1.22 ns per loop (mean ± std. dev. of 7 runs, 1000000 loops each)\n",
      "69.1 ns ± 0.633 ns per loop (mean ± std. dev. of 7 runs, 10000000 loops each)\n"
     ]
    }
   ],
   "source": [
    "%timeit list1  = [1] * 10;  list2  = [2] * 3;  list3  = list1 + list2\n",
    "%timeit tuple1 = (1,) * 10; tuple2 = (2,) * 3; tuple3 = tuple1 + tuple2"
   ]
  },
  {
   "cell_type": "code",
   "execution_count": 40,
   "metadata": {},
   "outputs": [
    {
     "name": "stdout",
     "output_type": "stream",
     "text": [
      "The first and second elements are 1 2\n",
      "The last and second last elements are 5 4\n",
      "The second to fourth elements are [2, 3, 4]\n",
      "The second to the last elements are [2, 3, 4, 5]\n",
      "The second to second last elements are [2, 3, 4]\n",
      "The first to second last elements are [1, 2, 3, 4]\n",
      "The every second elements are [1, 3, 5]\n"
     ]
    }
   ],
   "source": [
    "# Accessing the elements inside lists or tuples\n",
    "list1 = [1, 2, 3, 4, 5]\n",
    "# 0-based indexing\n",
    "print('The first and second elements are', list1[0], list1[1])\n",
    "# negative indexing\n",
    "print('The last and second last elements are', list1[-1], list1[-2])\n",
    "# Range indexing\n",
    "print('The second to fourth elements are', list1[1:4])\n",
    "print('The second to the last elements are', list1[1:])\n",
    "print('The second to second last elements are', list1[1:-1])\n",
    "print('The first to second last elements are', list1[:-1])\n",
    "# select every second element\n",
    "print('The every second elements are', list1[::2])\n"
   ]
  },
  {
   "cell_type": "markdown",
   "metadata": {},
   "source": [
    "### Set"
   ]
  },
  {
   "cell_type": "code",
   "execution_count": 41,
   "metadata": {},
   "outputs": [
    {
     "name": "stdout",
     "output_type": "stream",
     "text": [
      "{'b', 'a', 'c'}\n"
     ]
    }
   ],
   "source": [
    "# A set is a collection which is unordered and unindexed\n",
    "set1 = {1, 2, 3}\n",
    "set2 = {'a', 'b', 'c', 'c'} # it will remove duplicate items during construction\n",
    "print(set2)"
   ]
  },
  {
   "cell_type": "code",
   "execution_count": 42,
   "metadata": {},
   "outputs": [
    {
     "name": "stdout",
     "output_type": "stream",
     "text": [
      "after join: {1, 2, 3, 'b', 'a', 'c'}\n"
     ]
    }
   ],
   "source": [
    "# to join two sets\n",
    "set3 = set1.union(set2)\n",
    "print('after join:', set3)"
   ]
  },
  {
   "cell_type": "code",
   "execution_count": 43,
   "metadata": {},
   "outputs": [
    {
     "name": "stdout",
     "output_type": "stream",
     "text": [
      "after adding an item: {1, 2, 3, 4}\n",
      "after adding several items: {'e', 'c', 'f', 'b', 'd', 'a'}\n"
     ]
    }
   ],
   "source": [
    "# add one item\n",
    "set1.add(4)\n",
    "print('after adding an item:', set1)\n",
    "\n",
    "# add more items\n",
    "set2.update(('d', 'e', 'f'))\n",
    "print('after adding several items:', set2)"
   ]
  },
  {
   "cell_type": "code",
   "execution_count": 44,
   "metadata": {},
   "outputs": [
    {
     "name": "stdout",
     "output_type": "stream",
     "text": [
      "after removing item b: {'e', 'c', 'f', 'd', 'a'}\n"
     ]
    }
   ],
   "source": [
    "# remove an item\n",
    "set2.remove('b')\n",
    "print('after removing item b:', set2)\n",
    "\n",
    "# other functions len() and in also work for sets"
   ]
  },
  {
   "cell_type": "markdown",
   "metadata": {},
   "source": [
    "### Dictionary"
   ]
  },
  {
   "cell_type": "code",
   "execution_count": 45,
   "metadata": {},
   "outputs": [
    {
     "name": "stdout",
     "output_type": "stream",
     "text": [
      "{'brand': 'Ford', 'model': 'Mustang', 'year': 1964}\n",
      "{'brand': 'Chevy', 'model': 'Camaro', 'year': 1999}\n",
      "{0: 1, 1: 2, 2: 3}\n"
     ]
    }
   ],
   "source": [
    "# dictionary is unordered but indexed and mutable\n",
    "dict1 = {\"brand\": \"Ford\", \"model\": \"Mustang\", \"year\": 1964}\n",
    "dict2 = dict(brand=\"Chevy\", model=\"Camaro\", year=1999)\n",
    "dict3 = {0:1, 1:2, 2:3}\n",
    "print(dict1)\n",
    "print(dict2)\n",
    "print(dict3)"
   ]
  },
  {
   "cell_type": "code",
   "execution_count": 46,
   "metadata": {},
   "outputs": [
    {
     "name": "stdout",
     "output_type": "stream",
     "text": [
      "Ford\n",
      "Camaro\n",
      "1\n"
     ]
    }
   ],
   "source": [
    "# Accessing an element\n",
    "print(dict1['brand'])\n",
    "print(dict2.get('model'))\n",
    "print(dict3[0])"
   ]
  },
  {
   "cell_type": "code",
   "execution_count": 47,
   "metadata": {},
   "outputs": [
    {
     "name": "stdout",
     "output_type": "stream",
     "text": [
      "dict_keys(['brand', 'model', 'year'])\n",
      "dict_values(['Ford', 'Mustang', 1964])\n"
     ]
    }
   ],
   "source": [
    "# keys and values\n",
    "print(dict1.keys())\n",
    "print(dict1.values())"
   ]
  },
  {
   "cell_type": "code",
   "execution_count": 48,
   "metadata": {},
   "outputs": [
    {
     "name": "stdout",
     "output_type": "stream",
     "text": [
      "'brand' in dict1: True\n",
      "'Ford' in dict1: False\n"
     ]
    }
   ],
   "source": [
    "# when using 'in', it is checking the keys\n",
    "print(\"'brand' in dict1:\", 'brand' in dict1)\n",
    "print(\"'Ford' in dict1:\", 'Ford' in dict1)"
   ]
  },
  {
   "cell_type": "code",
   "execution_count": 49,
   "metadata": {},
   "outputs": [
    {
     "name": "stdout",
     "output_type": "stream",
     "text": [
      "'Ford' in dict1's values: True\n"
     ]
    }
   ],
   "source": [
    "# unless\n",
    "print(\"'Ford' in dict1's values:\", 'Ford' in dict1.values())"
   ]
  },
  {
   "cell_type": "code",
   "execution_count": 50,
   "metadata": {},
   "outputs": [
    {
     "name": "stdout",
     "output_type": "stream",
     "text": [
      "after an item is changed: {'brand': 'VW', 'model': 'Mustang', 'year': 1964}\n"
     ]
    }
   ],
   "source": [
    "# change value\n",
    "dict1['brand'] = 'VW'\n",
    "print('after an item is changed:', dict1)"
   ]
  },
  {
   "cell_type": "code",
   "execution_count": 51,
   "metadata": {},
   "outputs": [
    {
     "name": "stdout",
     "output_type": "stream",
     "text": [
      "after an item is added: {'brand': 'VW', 'model': 'Mustang', 'year': 1964, 'color': 'Black'}\n"
     ]
    }
   ],
   "source": [
    "# add an item\n",
    "dict1['color'] = 'Black'\n",
    "print('after an item is added:', dict1)"
   ]
  },
  {
   "cell_type": "code",
   "execution_count": 52,
   "metadata": {},
   "outputs": [
    {
     "name": "stdout",
     "output_type": "stream",
     "text": [
      "pop: VW\n",
      "after pop: {'model': 'Mustang', 'year': 1964, 'color': 'Black'}\n"
     ]
    }
   ],
   "source": [
    "# remove an item by its key\n",
    "brand = dict1.pop('brand')\n",
    "print('pop:', brand)\n",
    "print('after pop:', dict1)"
   ]
  },
  {
   "cell_type": "markdown",
   "metadata": {},
   "source": [
    "### Mutable and immutable"
   ]
  },
  {
   "cell_type": "code",
   "execution_count": 53,
   "metadata": {},
   "outputs": [
    {
     "name": "stdout",
     "output_type": "stream",
     "text": [
      "['a', 'c', 1, 2, 3]\n",
      "['a', 'mutable', 1, 2, 3]\n"
     ]
    }
   ],
   "source": [
    "# mutable object\n",
    "print(list3)\n",
    "\n",
    "list3[1] = 'mutable'\n",
    "\n",
    "print(list3)\n"
   ]
  },
  {
   "cell_type": "code",
   "execution_count": 54,
   "metadata": {},
   "outputs": [
    {
     "name": "stdout",
     "output_type": "stream",
     "text": [
      "('a', 'mutable', 1, 2, 3)\n"
     ]
    },
    {
     "ename": "TypeError",
     "evalue": "'tuple' object does not support item assignment",
     "output_type": "error",
     "traceback": [
      "\u001b[1;31m---------------------------------------------------------------------------\u001b[0m",
      "\u001b[1;31mTypeError\u001b[0m                                 Traceback (most recent call last)",
      "\u001b[1;32m<ipython-input-54-3c4759188a3e>\u001b[0m in \u001b[0;36m<module>\u001b[1;34m\u001b[0m\n\u001b[0;32m      3\u001b[0m \u001b[0mprint\u001b[0m\u001b[1;33m(\u001b[0m\u001b[0mtuple3\u001b[0m\u001b[1;33m)\u001b[0m\u001b[1;33m\u001b[0m\u001b[1;33m\u001b[0m\u001b[0m\n\u001b[0;32m      4\u001b[0m \u001b[1;33m\u001b[0m\u001b[0m\n\u001b[1;32m----> 5\u001b[1;33m \u001b[0mtuple3\u001b[0m\u001b[1;33m[\u001b[0m\u001b[1;36m1\u001b[0m\u001b[1;33m]\u001b[0m \u001b[1;33m=\u001b[0m \u001b[1;34m'immutable'\u001b[0m \u001b[1;31m#this won't work.\u001b[0m\u001b[1;33m\u001b[0m\u001b[1;33m\u001b[0m\u001b[0m\n\u001b[0m",
      "\u001b[1;31mTypeError\u001b[0m: 'tuple' object does not support item assignment"
     ]
    }
   ],
   "source": [
    "# immutable\n",
    "tuple3 = tuple(list3)\n",
    "print(tuple3)\n",
    "\n",
    "tuple3[1] = 'immutable' #this won't work."
   ]
  },
  {
   "cell_type": "code",
   "execution_count": 55,
   "metadata": {},
   "outputs": [
    {
     "name": "stdout",
     "output_type": "stream",
     "text": [
      "list3: ['a', 'mutable', 1, 2, 3]\n",
      "list4: ['a', 'mutable', 1, 2, 3]\n",
      "list3 after change: ['a', 'list4_changed', 1, 2, 3]\n",
      "list4 after change: ['a', 'list4_changed', 1, 2, 3]\n",
      "list3 after change2: ['a', 'list4_changed', 1, 2, 3]\n",
      "list4 after change2: [1, 2, 3]\n"
     ]
    }
   ],
   "source": [
    "# the variable actually is an address pointing to the object\n",
    "list4 = list3\n",
    "print('list3:', list3)\n",
    "print('list4:', list4)\n",
    "\n",
    "list4[1] = 'list4_changed'\n",
    "print('list3 after change:', list3)\n",
    "print('list4 after change:', list4)\n",
    "\n",
    "list4 = [1, 2, 3] # a new object\n",
    "print('list3 after change2:', list3)\n",
    "print('list4 after change2:', list4)"
   ]
  },
  {
   "cell_type": "code",
   "execution_count": 57,
   "metadata": {},
   "outputs": [
    {
     "name": "stdout",
     "output_type": "stream",
     "text": [
      "list3: ['a', 'list4_changed', 1, 2, 3]\n",
      "list4: ['a', 'list4_changed', 1, 2, 3]\n",
      "list3 after change: ['a', 'list4_changed', 1, 2, 3]\n",
      "list4 after change: ['a', 'list5_changed', 1, 2, 3]\n"
     ]
    }
   ],
   "source": [
    "# use copy() to make a copy of the list\n",
    "list4 = list3.copy()\n",
    "print('list3:', list3)\n",
    "print('list4:', list4)\n",
    "\n",
    "list4[1] = 'list5_changed'\n",
    "print('list3 after change:', list3)\n",
    "print('list4 after change:', list4)"
   ]
  },
  {
   "cell_type": "code",
   "execution_count": 58,
   "metadata": {},
   "outputs": [
    {
     "name": "stdout",
     "output_type": "stream",
     "text": [
      "(5, 6)\n"
     ]
    }
   ],
   "source": [
    "# function parameter passed by value for an immutable object \n",
    "def updateList(list1):\n",
    "    list1 += tuple([10])\n",
    "    \n",
    "n = (5, 6)\n",
    "updateList(n)\n",
    "print(n)"
   ]
  },
  {
   "cell_type": "code",
   "execution_count": 59,
   "metadata": {},
   "outputs": [
    {
     "name": "stdout",
     "output_type": "stream",
     "text": [
      "[5, 6, 10]\n"
     ]
    }
   ],
   "source": [
    "# function parameter passed by reference for a mutable object\n",
    "def updateList(list1):\n",
    "    list1 += [10]\n",
    "    \n",
    "n = [5, 6]\n",
    "updateList(n)\n",
    "print(n)"
   ]
  },
  {
   "cell_type": "code",
   "execution_count": 60,
   "metadata": {},
   "outputs": [
    {
     "name": "stdout",
     "output_type": "stream",
     "text": [
      "[5, 6, 10]\n"
     ]
    }
   ],
   "source": [
    "# but this is a bad habit\n",
    "def updateList(list1):\n",
    "    result = list1 + [10]\n",
    "    return result\n",
    "    \n",
    "n = [5, 6]\n",
    "n = updateList(n)\n",
    "print(n)"
   ]
  },
  {
   "cell_type": "markdown",
   "metadata": {},
   "source": [
    "# String is special"
   ]
  },
  {
   "cell_type": "code",
   "execution_count": 61,
   "metadata": {},
   "outputs": [
    {
     "name": "stdout",
     "output_type": "stream",
     "text": [
      "\n",
      "we are UNL\n",
      "students.\n",
      "\n",
      "\n",
      " we are UNL\n",
      "students.\n",
      "\n"
     ]
    }
   ],
   "source": [
    "# multiline string\n",
    "multiline_str = '''\n",
    "we are UNL\n",
    "students.\n",
    "'''\n",
    "print(multiline_str)\n",
    "\n",
    "multiline_str = '''\n",
    " we are UNL\n",
    "students.\n",
    "'''\n",
    "print(multiline_str)"
   ]
  },
  {
   "cell_type": "code",
   "execution_count": 62,
   "metadata": {},
   "outputs": [
    {
     "name": "stdout",
     "output_type": "stream",
     "text": [
      "we are UNL students.\n",
      "we are UNL students.\n"
     ]
    }
   ],
   "source": [
    "# To split a long string\n",
    "multiline_str = 'we are UNL ' \\\n",
    "'students.' # multiline_str = 'we are UNL students.'\n",
    "print(multiline_str)\n",
    "\n",
    "multiline_str = 'we are UNL ' + 'students.'\n",
    "print(multiline_str)"
   ]
  },
  {
   "cell_type": "code",
   "execution_count": 63,
   "metadata": {},
   "outputs": [
    {
     "name": "stdout",
     "output_type": "stream",
     "text": [
      "e\n",
      "World!\n"
     ]
    }
   ],
   "source": [
    "# strings are arrays\n",
    "str1 = \"Hello, World!\"\n",
    "print(str1[1])\n",
    "print(str1[-6:])"
   ]
  },
  {
   "cell_type": "code",
   "execution_count": null,
   "metadata": {},
   "outputs": [],
   "source": [
    "'Hello' == str1[:5]"
   ]
  },
  {
   "cell_type": "code",
   "execution_count": 69,
   "metadata": {},
   "outputs": [
    {
     "name": "stdout",
     "output_type": "stream",
     "text": [
      "True\n",
      "False\n"
     ]
    }
   ],
   "source": [
    "print(str1.endswith('!'))\n",
    "print(str1.endswith('World'))"
   ]
  },
  {
   "cell_type": "code",
   "execution_count": 70,
   "metadata": {},
   "outputs": [
    {
     "name": "stdout",
     "output_type": "stream",
     "text": [
      "hello, world!\n",
      "HELLO, WORLD!\n"
     ]
    }
   ],
   "source": [
    "# some useful string\n",
    "print(str1.lower())\n",
    "print(str1.upper())"
   ]
  },
  {
   "cell_type": "code",
   "execution_count": 73,
   "metadata": {},
   "outputs": [
    {
     "name": "stdout",
     "output_type": "stream",
     "text": [
      "Jollo, World!\n",
      "Hello, World!\n"
     ]
    }
   ],
   "source": [
    "# replace\n",
    "print(str1.replace(\"He\", \"Jo\"))\n",
    "print(str1)"
   ]
  },
  {
   "cell_type": "code",
   "execution_count": 74,
   "metadata": {},
   "outputs": [
    {
     "name": "stdout",
     "output_type": "stream",
     "text": [
      "['Hello,', 'World!']\n",
      "['Hello', ' World!']\n"
     ]
    }
   ],
   "source": [
    "# split strings\n",
    "print(str1.split())\n",
    "print(str1.split(','))"
   ]
  },
  {
   "cell_type": "code",
   "execution_count": 75,
   "metadata": {},
   "outputs": [
    {
     "name": "stdout",
     "output_type": "stream",
     "text": [
      " s1 s2 s3\n",
      "\n",
      "s1 s2 s3\n",
      "s1 s2 s3\n",
      "\n",
      " s1 s2 s3\n",
      " s1 s2 s3\n",
      "\n"
     ]
    }
   ],
   "source": [
    "# remove leading or trailing spaces\n",
    "str2 = ' s1 s2 s3\\n'\n",
    "print(str2)\n",
    "print(str2.strip()) # removes any whitespace (including new line symbol) from the beginning or the end\n",
    "print(str2.lstrip()) # removes any whitespace (including new line symbol) at the end\n",
    "print(str2.rstrip()) # removes any whitespace (including new line symbol) at the end\n",
    "print(str2)"
   ]
  },
  {
   "cell_type": "code",
   "execution_count": 76,
   "metadata": {},
   "outputs": [
    {
     "name": "stdout",
     "output_type": "stream",
     "text": [
      "True\n"
     ]
    }
   ],
   "source": [
    "# check substring\n",
    "print('hello' in str1.lower())"
   ]
  },
  {
   "cell_type": "code",
   "execution_count": 77,
   "metadata": {},
   "outputs": [
    {
     "name": "stdout",
     "output_type": "stream",
     "text": [
      "Hello, World! bye bye\n",
      " bye bye bye bye bye bye\n"
     ]
    }
   ],
   "source": [
    "# string operator\n",
    "# concatenate\n",
    "str2 = ' bye bye'\n",
    "print(str1 + str2)\n",
    "\n",
    "# repeat\n",
    "print(str2 * 3)"
   ]
  },
  {
   "cell_type": "code",
   "execution_count": 78,
   "metadata": {},
   "outputs": [
    {
     "name": "stdout",
     "output_type": "stream",
     "text": [
      "H,e,l,l,o,,, ,W,o,r,l,d,!\n"
     ]
    }
   ],
   "source": [
    "#print(str2 * 3.) # this wont work\n",
    "\n",
    "# Joins the elements of an iterable to the end of the string\n",
    "print(','.join(list(str1)))"
   ]
  },
  {
   "cell_type": "code",
   "execution_count": 81,
   "metadata": {},
   "outputs": [],
   "source": [
    "two_dimension_list = [['b', 'a'],\n",
    " ['c', 'd']]"
   ]
  },
  {
   "cell_type": "code",
   "execution_count": 84,
   "metadata": {},
   "outputs": [],
   "source": [
    "two_dimension_list[0][1] = 'z'"
   ]
  },
  {
   "cell_type": "code",
   "execution_count": 85,
   "metadata": {},
   "outputs": [
    {
     "data": {
      "text/plain": [
       "[['b', 'z'], ['c', 'd']]"
      ]
     },
     "execution_count": 85,
     "metadata": {},
     "output_type": "execute_result"
    }
   ],
   "source": [
    "two_dimension_list"
   ]
  },
  {
   "cell_type": "code",
   "execution_count": 88,
   "metadata": {},
   "outputs": [
    {
     "data": {
      "text/plain": [
       "(['b', 'z'], ['c', 'd'])"
      ]
     },
     "execution_count": 88,
     "metadata": {},
     "output_type": "execute_result"
    }
   ],
   "source": [
    "two_dimension_tuple = (['b', 'a'],\n",
    " ['c', 'd'])\n",
    "two_dimension_tuple[0][1] = 'z'\n",
    "two_dimension_tuple"
   ]
  }
 ],
 "metadata": {
  "kernelspec": {
   "display_name": "Python 3",
   "language": "python",
   "name": "python3"
  },
  "language_info": {
   "codemirror_mode": {
    "name": "ipython",
    "version": 3
   },
   "file_extension": ".py",
   "mimetype": "text/x-python",
   "name": "python",
   "nbconvert_exporter": "python",
   "pygments_lexer": "ipython3",
   "version": "3.7.1"
  }
 },
 "nbformat": 4,
 "nbformat_minor": 4
}
